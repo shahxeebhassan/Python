{
 "cells": [
  {
   "cell_type": "code",
   "execution_count": 4,
   "metadata": {},
   "outputs": [
    {
     "name": "stdout",
     "output_type": "stream",
     "text": [
      "Hello, shah from Afnann!\n"
     ]
    }
   ],
   "source": [
    "def get_name():\n",
    "    return input(\"Enter your name: \")\n",
    "def get_house():\n",
    "    return input(\"Enter your house: \")\n",
    "def main():\n",
    "    name = get_name()\n",
    "    house = get_house()\n",
    "    print(f\"Hello, {name} from {house}!\")\n",
    "if __name__ == \"__main__\":\n",
    "    main()"
   ]
  },
  {
   "cell_type": "code",
   "execution_count": 6,
   "metadata": {},
   "outputs": [
    {
     "name": "stdout",
     "output_type": "stream",
     "text": [
      "Hello, Shahzaib from Afnan!\n"
     ]
    }
   ],
   "source": [
    "# improvement\n",
    "def get_student():\n",
    "    name = input(\"Enter your name: \")\n",
    "    house = input(\"Enter your house: \")\n",
    "    return name, house\n",
    "def main():\n",
    "    name, house = get_student() # tuple unpacking \n",
    "    print(f\"Hello, {name} from {house}!\")\n",
    "if __name__ == \"__main__\":\n",
    "    main()"
   ]
  },
  {
   "cell_type": "code",
   "execution_count": 7,
   "metadata": {},
   "outputs": [
    {
     "name": "stdout",
     "output_type": "stream",
     "text": [
      "Hello, Shah from zaib!\n"
     ]
    }
   ],
   "source": [
    "# improvement\n",
    "def get_student():\n",
    "    name = input(\"Enter your name: \")\n",
    "    house = input(\"Enter your house: \")\n",
    "    return name, house # It is a tuple (name, house)\n",
    "# We'll return list when we have more than one type of data or we want to change the data later\n",
    "def main():\n",
    "    student = get_student()\n",
    "    print(f\"Hello, {student[0]} from {student[1]}!\")\n",
    "if __name__ == \"__main__\":\n",
    "    main()"
   ]
  },
  {
   "cell_type": "code",
   "execution_count": 9,
   "metadata": {},
   "outputs": [
    {
     "name": "stdout",
     "output_type": "stream",
     "text": [
      "Hello, shah from zaib!\n"
     ]
    }
   ],
   "source": [
    "# improvement\n",
    "def get_student():\n",
    "    student = {}\n",
    "    student[\"name\"] = input(\"Enter your name: \")\n",
    "    student[\"house\"] = input(\"Enter your house: \")\n",
    "    return student # It is a dictionary\n",
    "def main():\n",
    "    student = get_student()\n",
    "    print(f\"Hello, {student['name']} from {student['house']}!\")\n",
    "if __name__ == \"__main__\":\n",
    "    main()"
   ]
  },
  {
   "cell_type": "code",
   "execution_count": null,
   "metadata": {},
   "outputs": [],
   "source": [
    "# improvement\n",
    "def get_student():\n",
    "    name = input(\"Enter your name: \")\n",
    "    house = input(\"Enter your house: \")\n",
    "    return {\"name\": name, \"house\": house} # It is a dictionary\n",
    "def main():\n",
    "    student = get_student()\n",
    "    print(f\"Hello, {student['name']} from {student['house']}!\")\n",
    "if __name__ == \"__main__\":\n",
    "    main()"
   ]
  },
  {
   "cell_type": "code",
   "execution_count": 14,
   "metadata": {},
   "outputs": [
    {
     "name": "stdout",
     "output_type": "stream",
     "text": [
      "Shahzaib from Pakistan\n"
     ]
    }
   ],
   "source": [
    "class Student:\n",
    "    ...\n",
    "\n",
    "def get_student():\n",
    "    student = Student()\n",
    "    student.name = 'Shahzaib'\n",
    "    student.house = 'Pakistan'\n",
    "    return student\n",
    "def main():\n",
    "    student = get_student()\n",
    "    print(f'{student.name} from {student.house}')\n",
    "main()"
   ]
  },
  {
   "cell_type": "code",
   "execution_count": 5,
   "metadata": {},
   "outputs": [
    {
     "name": "stdout",
     "output_type": "stream",
     "text": [
      "hi from hi\n"
     ]
    }
   ],
   "source": [
    "# import sys\n",
    "class Student:\n",
    "    def __init__(self,name,house):\n",
    "        if not name:\n",
    "            raise ValueError(\"Missing Name\")\n",
    "        if not house:\n",
    "            raise ValueError(\"Invalid House\")\n",
    "        self.name = name\n",
    "        self.house = house\n",
    "    def __str__(self):\n",
    "         return f'{self.name} from {self.house}'\n",
    "    \n",
    "def get_student():\n",
    "        name = input(\"Name: \")\n",
    "        house = input(\"House: \")\n",
    "        return Student(name,house)\n",
    "\n",
    "def main():\n",
    "        student = get_student()\n",
    "        print(student)\n",
    "        # print(f'{student.name} from {student.house}')\n",
    "main()"
   ]
  },
  {
   "cell_type": "code",
   "execution_count": 5,
   "metadata": {},
   "outputs": [
    {
     "name": "stdout",
     "output_type": "stream",
     "text": [
      "Expecto practronum!\n",
      "The patronus is unknown.\n"
     ]
    }
   ],
   "source": [
    "class Student:\n",
    "    def __init__(self,name,house,patronous):\n",
    "        if not name:\n",
    "            raise ValueError(\"Missing Name\")\n",
    "        if not house:\n",
    "            raise ValueError(\"Invalid House\")\n",
    "        self.name = name\n",
    "        self.house = house\n",
    "        self.patronous = patronous\n",
    "    def __str__(self):\n",
    "         return f'{self.name} from {self.house}'\n",
    "    \n",
    "    def charm(self):\n",
    "        if self.patronous == \"stag\":\n",
    "            print(\"The patronus is a stag.\")\n",
    "        elif self.patronous == \"otter\":\n",
    "            print(\"The patronus is an otter.\")\n",
    "        else:\n",
    "            print(\"The patronus is unknown.\")\n",
    "\n",
    "def get_student():\n",
    "        name = input(\"Name: \")\n",
    "        house = input(\"House: \")\n",
    "        patronous = input(\"Patronous: \")\n",
    "        return Student(name,house,patronous)\n",
    "\n",
    "def main():\n",
    "        student = get_student()\n",
    "        # print(student)\n",
    "        # print(f'{student.name} from {student.house}')\n",
    "        print(\"Expecto practronum!\")\n",
    "        student.charm()\n",
    "main() "
   ]
  },
  {
   "cell_type": "code",
   "execution_count": 9,
   "metadata": {},
   "outputs": [
    {
     "name": "stdout",
     "output_type": "stream",
     "text": [
      "h from j\n"
     ]
    }
   ],
   "source": [
    "class Student:\n",
    "    def __init__(self,name,house):\n",
    "        if not name:\n",
    "            raise ValueError(\"Missing Name\")\n",
    "        if not house:\n",
    "            raise ValueError(\"Invalid House\")\n",
    "        self.name = name\n",
    "        self.house = house\n",
    "    def __str__(self):\n",
    "         return f'{self.name} from {self.house}'\n",
    "\n",
    "def get_student():\n",
    "        name = input(\"Name: \")\n",
    "        house = input(\"House: \")\n",
    "        # patronous = input(\"Patronous: \")\n",
    "        return Student(name,house)\n",
    "\n",
    "def main():\n",
    "        student = get_student()\n",
    "        # print(student)\n",
    "        print(f'{student.name} from {student.house}')\n",
    "main() "
   ]
  },
  {
   "cell_type": "code",
   "execution_count": 2,
   "metadata": {},
   "outputs": [
    {
     "name": "stdout",
     "output_type": "stream",
     "text": [
      "shah from zaib\n"
     ]
    }
   ],
   "source": [
    "class Student:\n",
    "    def __init__(self,name,house):\n",
    "        if not name:\n",
    "            raise ValueError(\"Missing Name\")\n",
    "        if not house:\n",
    "            raise ValueError(\"Invalid House\")\n",
    "        self.name = name\n",
    "        self.house = house\n",
    "    def __str__(self):\n",
    "         return f'{self.name} from {self.house}'\n",
    "\n",
    "def get_student():\n",
    "        name = input(\"Name: \")\n",
    "        house = input(\"House: \")\n",
    "        # patronous = input(\"Patronous: \")\n",
    "        return Student(name,house)\n",
    "#Getter\n",
    "@property\n",
    "def house(self):\n",
    "    return self._house\n",
    "#Setter\n",
    "@house.setter\n",
    "def house(self,house):\n",
    "    self._house = house\n",
    "@property \n",
    "def name(self):\n",
    "    return self._name\n",
    "@name.setter\n",
    "def name(self,name):\n",
    "    self._name = name\n",
    "def main():\n",
    "        student = get_student()\n",
    "        print(student)\n",
    "        # print(f'{student.name} from {student.house}')\n",
    "main() "
   ]
  }
 ],
 "metadata": {
  "kernelspec": {
   "display_name": "Python 3",
   "language": "python",
   "name": "python3"
  },
  "language_info": {
   "codemirror_mode": {
    "name": "ipython",
    "version": 3
   },
   "file_extension": ".py",
   "mimetype": "text/x-python",
   "name": "python",
   "nbconvert_exporter": "python",
   "pygments_lexer": "ipython3",
   "version": "3.8.10"
  },
  "orig_nbformat": 4
 },
 "nbformat": 4,
 "nbformat_minor": 2
}
