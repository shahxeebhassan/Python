{
 "cells": [
  {
   "cell_type": "code",
   "execution_count": 2,
   "metadata": {},
   "outputs": [
    {
     "name": "stdout",
     "output_type": "stream",
     "text": [
      "[1, 2, 3, 4, 5, 6, 7, 8, 9, 10]\n"
     ]
    }
   ],
   "source": [
    "# Program to remove all duplicate elements from a list\n",
    "list1 = [1,2,1,2,4,5,6,8,3,4,5,6,7,8,9,10]\n",
    "\n",
    "#remove duplicates\n",
    "list1 = list(set(list1))\n",
    "print(list1)"
   ]
  },
  {
   "cell_type": "code",
   "execution_count": 4,
   "metadata": {},
   "outputs": [
    {
     "name": "stdout",
     "output_type": "stream",
     "text": [
      "[1, 2, 4, 5, 6, 8, 3, 7, 9, 10]\n"
     ]
    }
   ],
   "source": [
    "list1 = [1,2,1,2,4,5,6,8,3,4,5,6,7,8,9,10]\n",
    "seen = set()\n",
    "new_list = [item for item in list1 if item not in seen and not seen.add(item)]\n",
    "print(new_list)"
   ]
  },
  {
   "cell_type": "code",
   "execution_count": 5,
   "metadata": {},
   "outputs": [
    {
     "name": "stdout",
     "output_type": "stream",
     "text": [
      "10\n",
      "1\n"
     ]
    }
   ],
   "source": [
    "# Program to find maximum, minimum of a list\n",
    "list1 = [1,2,1,2,4,5,6,8,3,4,5,6,7,8,9,10]\n",
    "print(max(list1))\n",
    "print(min(list1))"
   ]
  },
  {
   "cell_type": "code",
   "execution_count": 8,
   "metadata": {},
   "outputs": [
    {
     "name": "stdout",
     "output_type": "stream",
     "text": [
      "9\n"
     ]
    }
   ],
   "source": [
    "# Program to find second largest number in a list\n",
    "list1 = [1,2,1,2,4,5,6,8,3,4,5,6,7,8,9,10]\n",
    "list1.sort()\n",
    "print(list1[-2]) #O(nlogn)"
   ]
  },
  {
   "cell_type": "code",
   "execution_count": 11,
   "metadata": {},
   "outputs": [
    {
     "name": "stdout",
     "output_type": "stream",
     "text": [
      "9\n"
     ]
    }
   ],
   "source": [
    "largest = 0\n",
    "second_largest = 0\n",
    "for item in list1:\n",
    "    if item > largest:\n",
    "        second_largest = largest\n",
    "        largest = item\n",
    "    elif item > second_largest:\n",
    "        second_largest = item\n",
    "print(second_largest) #O(n)\n",
    "        "
   ]
  },
  {
   "cell_type": "code",
   "execution_count": 18,
   "metadata": {},
   "outputs": [
    {
     "name": "stdout",
     "output_type": "stream",
     "text": [
      "8\n"
     ]
    }
   ],
   "source": [
    "# Program to find nth largest number in a list\n",
    "num = int(input(\"Enter the value of n: \"))\n",
    "list1 = [1,2,1,2,4,5,6,8,3,4,5,6,7,8,9,10]\n",
    "list1 = list(set(list1))\n",
    "print(list1[-num])\n"
   ]
  },
  {
   "cell_type": "code",
   "execution_count": 21,
   "metadata": {},
   "outputs": [
    {
     "name": "stdout",
     "output_type": "stream",
     "text": [
      "5.0\n"
     ]
    }
   ],
   "source": [
    "# Program to find median of a list\n",
    "list1 = [1,2,1,2,4,5,6,8,3,4,5,6,7,8,9,10]\n",
    "\n",
    "list1.sort()\n",
    "if len(list1)%2 == 0:\n",
    "    median = (list1[int(len(list1)/2)] + list1[int(len(list1)/2)-1])/2\n",
    "else:\n",
    "    median = list1[int(len(list1)/2)]\n",
    "print(median)\n"
   ]
  },
  {
   "cell_type": "code",
   "execution_count": null,
   "metadata": {},
   "outputs": [],
   "source": [
    "# Program to find mode of a list\n",
    "list1 = [1,2,1,2,4,5,6,8,3,4,5,6,7,8,9,10]\n"
   ]
  },
  {
   "cell_type": "code",
   "execution_count": 13,
   "metadata": {},
   "outputs": [
    {
     "name": "stdout",
     "output_type": "stream",
     "text": [
      "31\n"
     ]
    },
    {
     "data": {
      "text/plain": [
       "[12,\n",
       " 34,\n",
       " 5,\n",
       " 6,\n",
       " 7,\n",
       " 8,\n",
       " 9,\n",
       " 44,\n",
       " 5,\n",
       " 5,\n",
       " 6,\n",
       " 7,\n",
       " 87,\n",
       " 88,\n",
       " 7,\n",
       " 6,\n",
       " 566,\n",
       " 55,\n",
       " 4,\n",
       " 4,\n",
       " 3,\n",
       " 33434,\n",
       " 43,\n",
       " 34343,\n",
       " 43,\n",
       " 434,\n",
       " 2,\n",
       " 313,\n",
       " 344435,\n",
       " 465768,\n",
       " 8]"
      ]
     },
     "execution_count": 13,
     "metadata": {},
     "output_type": "execute_result"
    }
   ],
   "source": [
    "# Write a program to print the length of a list.\n",
    "list1 = [12,34,5,6,7,8,9,44,5,5,6,7,87,88,7,6,566,55,4,4,3,33434,43,34343,43,434,2,313,344435,465768,8]\n",
    "print(len(list1))\n",
    "list1"
   ]
  },
  {
   "cell_type": "code",
   "execution_count": 14,
   "metadata": {},
   "outputs": [
    {
     "name": "stdout",
     "output_type": "stream",
     "text": [
      "[2334, 12, 34, 5, 6, 7, 8, 9, 44, 5, 5, 6, 7, 87, 88, 7, 6, 566, 55, 4, 4, 3, 33434, 43, 34343, 43, 434, 2, 313, 344435, 465768, 8] "
     ]
    }
   ],
   "source": [
    "# Write a program to add an element to the beginning of a list.\n",
    "list1.insert(0,2334)\n",
    "print(list1 ,end=\" \")"
   ]
  },
  {
   "cell_type": "code",
   "execution_count": 16,
   "metadata": {},
   "outputs": [
    {
     "name": "stdout",
     "output_type": "stream",
     "text": [
      "[233, 233, 2334, 12, 34, 5, 6, 7, 8, 9, 44, 5, 5, 6, 7, 87, 88, 7, 6, 566, 55, 4, 4, 3, 33434, 43, 34343, 43, 434, 2, 313, 344435, 465768, 8] "
     ]
    }
   ],
   "source": [
    "list1.reverse()\n",
    "list1.append(233)\n",
    "list1.reverse()\n",
    "print(list1 ,end= \" \")"
   ]
  },
  {
   "attachments": {},
   "cell_type": "markdown",
   "metadata": {},
   "source": [
    " 1. list.insert(0, elem) for small lists  (for simplicity)\n",
    " 2. fruits.reverse(); fruits.append(elem); fruits.reverse()  for larger lists (for efficiency)"
   ]
  },
  {
   "cell_type": "code",
   "execution_count": 36,
   "metadata": {},
   "outputs": [],
   "source": [
    "# Write a program to add an element to the end of a list.\n",
    "list1 = [11,12,13]\n",
    "list1.append(1)\n"
   ]
  },
  {
   "cell_type": "code",
   "execution_count": 37,
   "metadata": {},
   "outputs": [
    {
     "data": {
      "text/plain": [
       "[11, 12, 13, 1]"
      ]
     },
     "execution_count": 37,
     "metadata": {},
     "output_type": "execute_result"
    }
   ],
   "source": [
    "list1"
   ]
  },
  {
   "cell_type": "code",
   "execution_count": 39,
   "metadata": {},
   "outputs": [
    {
     "data": {
      "text/plain": [
       "[13, 14]"
      ]
     },
     "execution_count": 39,
     "metadata": {},
     "output_type": "execute_result"
    }
   ],
   "source": [
    "# Write a program to remove an element from the beginning of a list.\n",
    "list1 = [12,13,14]\n",
    "list1.remove(12)\n",
    "list1"
   ]
  },
  {
   "cell_type": "code",
   "execution_count": 41,
   "metadata": {},
   "outputs": [
    {
     "data": {
      "text/plain": [
       "14"
      ]
     },
     "execution_count": 41,
     "metadata": {},
     "output_type": "execute_result"
    }
   ],
   "source": [
    "list1.pop()"
   ]
  },
  {
   "cell_type": "code",
   "execution_count": 42,
   "metadata": {},
   "outputs": [],
   "source": [
    "list1 = [12,13,14,15]\n",
    "list1.reverse()\n",
    "list1.pop()\n",
    "list1.reverse()\n"
   ]
  },
  {
   "cell_type": "code",
   "execution_count": 43,
   "metadata": {},
   "outputs": [
    {
     "data": {
      "text/plain": [
       "123"
      ]
     },
     "execution_count": 43,
     "metadata": {},
     "output_type": "execute_result"
    }
   ],
   "source": [
    "# Write a program to remove an element from the end of a list.\n",
    "list1 = [12,13,14,123]\n",
    "list1.pop()"
   ]
  },
  {
   "cell_type": "code",
   "execution_count": 44,
   "metadata": {},
   "outputs": [
    {
     "data": {
      "text/plain": [
       "0"
      ]
     },
     "execution_count": 44,
     "metadata": {},
     "output_type": "execute_result"
    }
   ],
   "source": [
    "# Write a program to find the index of an element in a list.\n",
    "list1.index(12)"
   ]
  },
  {
   "cell_type": "code",
   "execution_count": 48,
   "metadata": {},
   "outputs": [
    {
     "data": {
      "text/plain": [
       "[1, 10, 11, 12, 122]"
      ]
     },
     "execution_count": 48,
     "metadata": {},
     "output_type": "execute_result"
    }
   ],
   "source": [
    "# Write a program to sort a list in ascending order.\n",
    "list1=[122,12,11,1,10]\n",
    "list1.sort()\n",
    "list1"
   ]
  },
  {
   "cell_type": "code",
   "execution_count": 50,
   "metadata": {},
   "outputs": [
    {
     "data": {
      "text/plain": [
       "[122, 12, 11, 10, 1]"
      ]
     },
     "execution_count": 50,
     "metadata": {},
     "output_type": "execute_result"
    }
   ],
   "source": [
    "# Write a program to sort a list in descending order.\n",
    "list1.sort(reverse=True)\n",
    "list1"
   ]
  },
  {
   "cell_type": "code",
   "execution_count": 54,
   "metadata": {},
   "outputs": [
    {
     "data": {
      "text/plain": [
       "[111234, 543, 777, 7, 6, 5, 34, 12, 12]"
      ]
     },
     "execution_count": 54,
     "metadata": {},
     "output_type": "execute_result"
    }
   ],
   "source": [
    "# Write a program to reverse the order of a list.\n",
    "list1 = [12,12,34,5,6,7,777,543,111234]\n",
    "list1[::-1]\n",
    "# Recommended Method"
   ]
  },
  {
   "cell_type": "code",
   "execution_count": 55,
   "metadata": {},
   "outputs": [
    {
     "data": {
      "text/plain": [
       "[12, 12, 34, 6, 111234]"
      ]
     },
     "execution_count": 55,
     "metadata": {},
     "output_type": "execute_result"
    }
   ],
   "source": [
    "# Write a program to print all the elements in a list that are even.\n",
    "even = [x for x in list1 if x % 2 == 0]\n",
    "even"
   ]
  },
  {
   "cell_type": "code",
   "execution_count": 56,
   "metadata": {},
   "outputs": [
    {
     "data": {
      "text/plain": [
       "[5, 7, 777, 543]"
      ]
     },
     "execution_count": 56,
     "metadata": {},
     "output_type": "execute_result"
    }
   ],
   "source": [
    "# Write a program to print all the elements in a list that are odd.\n",
    "odd = [x for x in list1 if x % 2 != 0]\n",
    "odd"
   ]
  },
  {
   "cell_type": "code",
   "execution_count": 57,
   "metadata": {},
   "outputs": [
    {
     "data": {
      "text/plain": [
       "[777, 543, 111234]"
      ]
     },
     "execution_count": 57,
     "metadata": {},
     "output_type": "execute_result"
    }
   ],
   "source": [
    "# Write a program to print all the elements in a list that are greater than a given number.\n",
    "greater = [x for x in list1 if x > 100]\n",
    "greater"
   ]
  },
  {
   "cell_type": "code",
   "execution_count": 58,
   "metadata": {},
   "outputs": [
    {
     "data": {
      "text/plain": [
       "[12, 12, 34, 5, 6, 7, 777, 543]"
      ]
     },
     "execution_count": 58,
     "metadata": {},
     "output_type": "execute_result"
    }
   ],
   "source": [
    "# Write a program to print all the elements in a list that are less than a given number.\n",
    "less = [x for x in list1 if x < 1000]\n",
    "less"
   ]
  },
  {
   "cell_type": "code",
   "execution_count": 59,
   "metadata": {},
   "outputs": [
    {
     "data": {
      "text/plain": [
       "112630"
      ]
     },
     "execution_count": 59,
     "metadata": {},
     "output_type": "execute_result"
    }
   ],
   "source": [
    "# Write a program to find the sum of all the elements in a list.\n",
    "sum(list1)"
   ]
  },
  {
   "cell_type": "code",
   "execution_count": 62,
   "metadata": {},
   "outputs": [
    {
     "data": {
      "text/plain": [
       "12514.444444444445"
      ]
     },
     "execution_count": 62,
     "metadata": {},
     "output_type": "execute_result"
    }
   ],
   "source": [
    "# Write a program to find the average of all the elements in a list.\n",
    "avg = sum(list1)/len(list1)\n",
    "avg"
   ]
  },
  {
   "cell_type": "code",
   "execution_count": 5,
   "metadata": {},
   "outputs": [
    {
     "data": {
      "text/plain": [
       "['a', 'is', 'of', 'this', 'list', 'hello', 'world', 'strings']"
      ]
     },
     "execution_count": 5,
     "metadata": {},
     "output_type": "execute_result"
    }
   ],
   "source": [
    "# 2. Given a list of strings, find the length of the longest string. \n",
    "list1 = [\"hello\",\"world\",\"this\",\"is\",\"a\",\"list\",\"of\",\"strings\"]\n",
    "max(list1,key=len)\n",
    "list1.sort(key=len , reverse=True)\n",
    "list1.sort(key=len)\n",
    "list1"
   ]
  },
  {
   "cell_type": "code",
   "execution_count": 6,
   "metadata": {},
   "outputs": [
    {
     "data": {
      "text/plain": [
       "3628800"
      ]
     },
     "execution_count": 6,
     "metadata": {},
     "output_type": "execute_result"
    }
   ],
   "source": [
    "# Given a list of numbers, find the product of all the elements.\n",
    "list1 = [1,2,3,4,5,6,7,8,9,10]\n",
    "product = 1\n",
    "for item in list1:\n",
    "    product *= item\n",
    "product"
   ]
  },
  {
   "cell_type": "code",
   "execution_count": 7,
   "metadata": {},
   "outputs": [
    {
     "data": {
      "text/plain": [
       "10"
      ]
     },
     "execution_count": 7,
     "metadata": {},
     "output_type": "execute_result"
    }
   ],
   "source": [
    "# 4. Given a list of booleans, count the number of True values.\n",
    "list1 = [True,False,True,True,False,True,False,True,True,False,True,False,True,True,False,True,False]\n",
    "\n",
    "count = 0\n",
    "for item in list1:\n",
    "    if item == True:\n",
    "        count += 1\n",
    "count"
   ]
  },
  {
   "cell_type": "code",
   "execution_count": 8,
   "metadata": {},
   "outputs": [
    {
     "data": {
      "text/plain": [
       "'hello world this is a list of strings'"
      ]
     },
     "execution_count": 8,
     "metadata": {},
     "output_type": "execute_result"
    }
   ],
   "source": [
    "# 5. Given a list of strings, join all the strings into a single string separated by spaces.\n",
    "list1 = [\"hello\",\"world\",\"this\",\"is\",\"a\",\"list\",\"of\",\"strings\"]\n",
    "\" \".join(list1)"
   ]
  },
  {
   "cell_type": "code",
   "execution_count": 10,
   "metadata": {},
   "outputs": [
    {
     "name": "stdout",
     "output_type": "stream",
     "text": [
      "list2\n"
     ]
    }
   ],
   "source": [
    "# 8. Given two lists of numbers, find the list with the larger sum.\n",
    "list1 = [1,2,3,4,5,6,7,8,9,10]\n",
    "list2 = [11,12,13,14,15,16,17,18,19,20]\n",
    "if sum(list1) > sum(list2):\n",
    "    print(\"list1\")\n",
    "else:\n",
    "    print(\"list2\")"
   ]
  },
  {
   "cell_type": "code",
   "execution_count": 12,
   "metadata": {},
   "outputs": [
    {
     "data": {
      "text/plain": [
       "'hello'"
      ]
     },
     "execution_count": 12,
     "metadata": {},
     "output_type": "execute_result"
    }
   ],
   "source": [
    "# 9. Given a list of strings, find the string with the most vowels.\n",
    "list1 = [\"hello\",\"world\",\"this\",\"is\",\"a\",\"list\",\"of\",\"strings\"]\n",
    "\n",
    "def vowel_count(string):\n",
    "    count = 0\n",
    "    for char in string:\n",
    "        if char in \"aeiou\":\n",
    "            count += 1\n",
    "    return count\n",
    "\n",
    "max(list1,key=vowel_count)\n",
    "\n"
   ]
  },
  {
   "cell_type": "code",
   "execution_count": 13,
   "metadata": {},
   "outputs": [
    {
     "data": {
      "text/plain": [
       "[10, 9, 8, 7, 6, 5, 4, 3, 2, 1]"
      ]
     },
     "execution_count": 13,
     "metadata": {},
     "output_type": "execute_result"
    }
   ],
   "source": [
    "# 10. Given a list of numbers, reverse all the elements in the list.\n",
    "list1 = [1,2,3,4,5,6,7,8,9,10]\n",
    "list1[::-1]\n"
   ]
  },
  {
   "cell_type": "code",
   "execution_count": 19,
   "metadata": {},
   "outputs": [
    {
     "data": {
      "text/plain": [
       "[10, 9, 8, 7, 6, 5, 4, 3, 2, 1]"
      ]
     },
     "execution_count": 19,
     "metadata": {},
     "output_type": "execute_result"
    }
   ],
   "source": [
    "list1.reverse()\n",
    "list1"
   ]
  },
  {
   "cell_type": "code",
   "execution_count": 29,
   "metadata": {},
   "outputs": [
    {
     "data": {
      "text/plain": [
       "[(3, 4), (5, 6), (7, 8), (9, 10), (1, 19)]"
      ]
     },
     "execution_count": 29,
     "metadata": {},
     "output_type": "execute_result"
    }
   ],
   "source": [
    "# 11. Given a list of tuples, sort the list by the second element of each tuple.\n",
    "list1 = [(1,19),(3,4),(5,6),(7,8),(9,10)]\n",
    "list1.sort(key=lambda x:x[1])\n",
    "list1"
   ]
  },
  {
   "cell_type": "code",
   "execution_count": 31,
   "metadata": {},
   "outputs": [
    {
     "data": {
      "text/plain": [
       "['hello', 'world', 'of', 'strings', 'is', 'this', 'list', 'a']"
      ]
     },
     "execution_count": 31,
     "metadata": {},
     "output_type": "execute_result"
    }
   ],
   "source": [
    "# 12. Given a list of strings, remove all consecutive duplicate elements from the list.\n",
    "list1 = [\"hello\",\"hello\",\"world\",\"world\",\"this\",\"this\",\"is\",\"is\",\"a\",\"a\",\"list\",\"list\",\"of\",\"of\",\"strings\",\"strings\"]\n",
    "list1 = list(set(list1))\n",
    "list1"
   ]
  },
  {
   "cell_type": "code",
   "execution_count": 33,
   "metadata": {},
   "outputs": [
    {
     "data": {
      "text/plain": [
       "[6, 7, 8, 9, 10]"
      ]
     },
     "execution_count": 33,
     "metadata": {},
     "output_type": "execute_result"
    }
   ],
   "source": [
    "# 13. Given a list of numbers, find the numbers that are greater than the average.\n",
    "list1 = [1,2,3,4,5,6,7,8,9,10]\n",
    "avg = sum(list1)/len(list1) \n",
    "greater = [x for x in list1 if x > avg]\n",
    "greater"
   ]
  },
  {
   "cell_type": "code",
   "execution_count": 35,
   "metadata": {},
   "outputs": [
    {
     "data": {
      "text/plain": [
       "['hello', 'a']"
      ]
     },
     "execution_count": 35,
     "metadata": {},
     "output_type": "execute_result"
    }
   ],
   "source": [
    "# 14. Given a list of strings, filter out all strings that contain the letter 'a' or 'e'.  \n",
    "list1 = [\"hello\",\"world\",\"this\",\"is\",\"a\",\"list\",\"of\",\"strings\"]\n",
    "list1 = [x for x in list1 if \"a\" in x or \"e\" in x]\n",
    "list1"
   ]
  },
  {
   "cell_type": "code",
   "execution_count": 43,
   "metadata": {},
   "outputs": [
    {
     "data": {
      "text/plain": [
       "[1, 3, 5, 7, 9]"
      ]
     },
     "execution_count": 43,
     "metadata": {},
     "output_type": "execute_result"
    }
   ],
   "source": [
    "# 15. Given a list of tuples, extract only the first elements of each tuple into a new list.\n",
    "list1 = [(1,2),(3,4),(5,6),(7,8),(9,10)]\n",
    "\n",
    "list2 = [x[0] for x in list1 ]\n",
    "list2"
   ]
  },
  {
   "cell_type": "code",
   "execution_count": null,
   "metadata": {},
   "outputs": [],
   "source": []
  }
 ],
 "metadata": {
  "kernelspec": {
   "display_name": "Python 3",
   "language": "python",
   "name": "python3"
  },
  "language_info": {
   "codemirror_mode": {
    "name": "ipython",
    "version": 3
   },
   "file_extension": ".py",
   "mimetype": "text/x-python",
   "name": "python",
   "nbconvert_exporter": "python",
   "pygments_lexer": "ipython3",
   "version": "3.8.10"
  }
 },
 "nbformat": 4,
 "nbformat_minor": 2
}
