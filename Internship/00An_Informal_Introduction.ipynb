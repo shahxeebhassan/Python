{
 "cells": [
  {
   "attachments": {},
   "cell_type": "markdown",
   "metadata": {},
   "source": [
    "# Style guide (PEP 8) and best practices in python"
   ]
  },
  {
   "attachments": {},
   "cell_type": "markdown",
   "metadata": {},
   "source": [
    "PEP 8 is the official style guide for Python code. It provides guidelines on how to write readable and maintainable code. Here are some of the best practices in Python:"
   ]
  },
  {
   "attachments": {},
   "cell_type": "markdown",
   "metadata": {},
   "source": [
    "1. Use 4 spaces for indentation"
   ]
  },
  {
   "cell_type": "code",
   "execution_count": 1,
   "metadata": {},
   "outputs": [
    {
     "ename": "IndentationError",
     "evalue": "expected an indented block after 'if' statement on line 12 (4293462646.py, line 13)",
     "output_type": "error",
     "traceback": [
      "\u001b[0;36m  Cell \u001b[0;32mIn[1], line 13\u001b[0;36m\u001b[0m\n\u001b[0;31m    do_something()\u001b[0m\n\u001b[0m    ^\u001b[0m\n\u001b[0;31mIndentationError\u001b[0m\u001b[0;31m:\u001b[0m expected an indented block after 'if' statement on line 12\n"
     ]
    }
   ],
   "source": [
    "# Good\n",
    "def my_function():\n",
    "    if some_condition:\n",
    "        do_something()\n",
    "    else:\n",
    "        do_something_else()\n",
    "\n",
    "        \n",
    "\n",
    "# Bad\n",
    "def my_function():\n",
    "    if some_condition:\n",
    "    do_something()\n",
    "    else:\n",
    "    do_something_else()"
   ]
  },
  {
   "attachments": {},
   "cell_type": "markdown",
   "metadata": {},
   "source": [
    "2. Limit all lines to a maximum of 79 characters"
   ]
  },
  {
   "attachments": {},
   "cell_type": "markdown",
   "metadata": {},
   "source": [
    "3. Use docstrings to document your code.\n"
   ]
  },
  {
   "attachments": {},
   "cell_type": "markdown",
   "metadata": {},
   "source": [
    "4. Use meaningful variable names.\n"
   ]
  },
  {
   "attachments": {},
   "cell_type": "markdown",
   "metadata": {},
   "source": [
    "5. Avoid using single-letter variable names.\n"
   ]
  },
  {
   "attachments": {},
   "cell_type": "markdown",
   "metadata": {},
   "source": [
    "6. Use list comprehensions instead of loops when possible.\n"
   ]
  },
  {
   "attachments": {},
   "cell_type": "markdown",
   "metadata": {},
   "source": [
    "7. Use enumerate() instead of range(len()) when iterating over a sequence and needing the index.\n"
   ]
  },
  {
   "cell_type": "code",
   "execution_count": 2,
   "metadata": {},
   "outputs": [
    {
     "name": "stdout",
     "output_type": "stream",
     "text": [
      "0 1\n",
      "1 2\n",
      "2 3\n",
      "0 1\n",
      "1 2\n",
      "2 3\n"
     ]
    }
   ],
   "source": [
    "# Good\n",
    "my_list = [1, 2, 3]\n",
    "for index, value in enumerate(my_list):\n",
    "    print(index, value)\n",
    "\n",
    "# Bad\n",
    "for i in range(len(my_list)):\n",
    "    print(i, my_list[i])"
   ]
  },
  {
   "attachments": {},
   "cell_type": "markdown",
   "metadata": {},
   "source": [
    "8. Use list.sort() instead of sorted(list) when sorting a list in place.\n"
   ]
  },
  {
   "cell_type": "code",
   "execution_count": 3,
   "metadata": {},
   "outputs": [],
   "source": [
    "# Good\n",
    "my_list.sort()\n",
    "\n",
    "# Bad\n",
    "my_list = sorted(my_list)"
   ]
  },
  {
   "attachments": {},
   "cell_type": "markdown",
   "metadata": {},
   "source": [
    "9. Use string formatting instead of concatenation.\n"
   ]
  },
  {
   "cell_type": "code",
   "execution_count": 4,
   "metadata": {},
   "outputs": [],
   "source": [
    "answer = 42\n",
    "# Good\n",
    "result = \"The answer is: {}\".format(answer)\n",
    "\n",
    "# Bad\n",
    "result = \"The answer is: \" + str(answer)\n"
   ]
  },
  {
   "attachments": {},
   "cell_type": "markdown",
   "metadata": {},
   "source": [
    "10. Use context managers (with statements) when working with files or other resources.\n"
   ]
  },
  {
   "cell_type": "code",
   "execution_count": 5,
   "metadata": {},
   "outputs": [
    {
     "ename": "FileNotFoundError",
     "evalue": "[Errno 2] No such file or directory: 'roadmap.md'",
     "output_type": "error",
     "traceback": [
      "\u001b[0;31m---------------------------------------------------------------------------\u001b[0m",
      "\u001b[0;31mFileNotFoundError\u001b[0m                         Traceback (most recent call last)",
      "Cell \u001b[0;32mIn[5], line 2\u001b[0m\n\u001b[1;32m      1\u001b[0m \u001b[39m# Good\u001b[39;00m\n\u001b[0;32m----> 2\u001b[0m \u001b[39mwith\u001b[39;00m \u001b[39mopen\u001b[39;49m(\u001b[39m'\u001b[39;49m\u001b[39mroadmap.md\u001b[39;49m\u001b[39m'\u001b[39;49m, \u001b[39m'\u001b[39;49m\u001b[39mr\u001b[39;49m\u001b[39m'\u001b[39;49m) \u001b[39mas\u001b[39;00m f:\n\u001b[1;32m      3\u001b[0m     contents \u001b[39m=\u001b[39m f\u001b[39m.\u001b[39mread()\n\u001b[1;32m      5\u001b[0m \u001b[39m# Bad\u001b[39;00m\n",
      "File \u001b[0;32m~/.local/lib/python3.10/site-packages/IPython/core/interactiveshell.py:284\u001b[0m, in \u001b[0;36m_modified_open\u001b[0;34m(file, *args, **kwargs)\u001b[0m\n\u001b[1;32m    277\u001b[0m \u001b[39mif\u001b[39;00m file \u001b[39min\u001b[39;00m {\u001b[39m0\u001b[39m, \u001b[39m1\u001b[39m, \u001b[39m2\u001b[39m}:\n\u001b[1;32m    278\u001b[0m     \u001b[39mraise\u001b[39;00m \u001b[39mValueError\u001b[39;00m(\n\u001b[1;32m    279\u001b[0m         \u001b[39mf\u001b[39m\u001b[39m\"\u001b[39m\u001b[39mIPython won\u001b[39m\u001b[39m'\u001b[39m\u001b[39mt let you open fd=\u001b[39m\u001b[39m{\u001b[39;00mfile\u001b[39m}\u001b[39;00m\u001b[39m by default \u001b[39m\u001b[39m\"\u001b[39m\n\u001b[1;32m    280\u001b[0m         \u001b[39m\"\u001b[39m\u001b[39mas it is likely to crash IPython. If you know what you are doing, \u001b[39m\u001b[39m\"\u001b[39m\n\u001b[1;32m    281\u001b[0m         \u001b[39m\"\u001b[39m\u001b[39myou can use builtins\u001b[39m\u001b[39m'\u001b[39m\u001b[39m open.\u001b[39m\u001b[39m\"\u001b[39m\n\u001b[1;32m    282\u001b[0m     )\n\u001b[0;32m--> 284\u001b[0m \u001b[39mreturn\u001b[39;00m io_open(file, \u001b[39m*\u001b[39;49margs, \u001b[39m*\u001b[39;49m\u001b[39m*\u001b[39;49mkwargs)\n",
      "\u001b[0;31mFileNotFoundError\u001b[0m: [Errno 2] No such file or directory: 'roadmap.md'"
     ]
    }
   ],
   "source": [
    "# Good\n",
    "with open('roadmap.md', 'r') as f:\n",
    "    contents = f.read()\n",
    "\n",
    "# Bad\n",
    "f = open('roadmap.md', 'r')\n",
    "contents = f.read()\n",
    "f.close()"
   ]
  },
  {
   "attachments": {},
   "cell_type": "markdown",
   "metadata": {},
   "source": [
    "# Data Types"
   ]
  },
  {
   "attachments": {},
   "cell_type": "markdown",
   "metadata": {},
   "source": [
    "Here is the precedence order, from highest to lowest:\n",
    "\n",
    "- Parentheses: ()\n",
    "- Exponentiation: **\n",
    "- Multiplication, Division, and Remainder: *, /, //, %\n",
    "- Addition and Subtraction: +, -\n"
   ]
  },
  {
   "attachments": {},
   "cell_type": "markdown",
   "metadata": {},
   "source": [
    "## Numbers"
   ]
  },
  {
   "cell_type": "code",
   "execution_count": 6,
   "metadata": {},
   "outputs": [
    {
     "name": "stdout",
     "output_type": "stream",
     "text": [
      "4\n",
      "20\n",
      "5.0\n",
      "1.6\n",
      "1\n",
      "2\n",
      "17\n",
      "25\n",
      "128\n"
     ]
    }
   ],
   "source": [
    "print(2+2)\n",
    "print(50 - 5 * 6)\n",
    "print((50 - 5 * 6) / 4)\n",
    "print(8 / 5)  # division always returns a floating point number\n",
    "print(8//5) # floor division discards the fractional part\n",
    "print(17 % 3) # the % operator returns the remainder of the division\n",
    "print(5 * 3 + 2) # result * divisor + remainder\n",
    "print(5 ** 2) # 5 squared\n",
    "print(2 ** 7) # 2 to the power of 7\n"
   ]
  },
  {
   "cell_type": "code",
   "execution_count": 7,
   "metadata": {},
   "outputs": [
    {
     "name": "stdout",
     "output_type": "stream",
     "text": [
      "900\n"
     ]
    }
   ],
   "source": [
    "width = 20  \n",
    "height = 5 * 9 # 90\n",
    "print(width * height)"
   ]
  },
  {
   "cell_type": "code",
   "execution_count": 8,
   "metadata": {},
   "outputs": [
    {
     "name": "stdout",
     "output_type": "stream",
     "text": [
      "14.0\n"
     ]
    }
   ],
   "source": [
    "# There is full support for floating point; operators with mixed type operands convert the integer operand to floating point:\n",
    "print(4 * 3.75 - 1)"
   ]
  },
  {
   "cell_type": "code",
   "execution_count": 9,
   "metadata": {},
   "outputs": [
    {
     "name": "stdout",
     "output_type": "stream",
     "text": [
      "12.5625\n"
     ]
    },
    {
     "ename": "TypeError",
     "evalue": "unsupported operand type(s) for +: 'float' and 'str'",
     "output_type": "error",
     "traceback": [
      "\u001b[0;31m---------------------------------------------------------------------------\u001b[0m",
      "\u001b[0;31mTypeError\u001b[0m                                 Traceback (most recent call last)",
      "Cell \u001b[0;32mIn[9], line 4\u001b[0m\n\u001b[1;32m      2\u001b[0m price \u001b[39m=\u001b[39m \u001b[39m100.50\u001b[39m\n\u001b[1;32m      3\u001b[0m \u001b[39mprint\u001b[39m(price \u001b[39m*\u001b[39m tax)\n\u001b[0;32m----> 4\u001b[0m \u001b[39mprint\u001b[39m(price \u001b[39m+\u001b[39;49m _)\n\u001b[1;32m      5\u001b[0m \u001b[39mprint\u001b[39m(\u001b[39mround\u001b[39m(_, \u001b[39m2\u001b[39m)) \u001b[39m# round the result to two decimal places\u001b[39;00m\n",
      "\u001b[0;31mTypeError\u001b[0m: unsupported operand type(s) for +: 'float' and 'str'"
     ]
    }
   ],
   "source": [
    "tax = 12.5 / 100\n",
    "price = 100.50\n",
    "print(price * tax)\n",
    "print(price + _)\n",
    "print(round(_, 2)) # round the result to two decimal places\n"
   ]
  },
  {
   "attachments": {},
   "cell_type": "markdown",
   "metadata": {},
   "source": [
    "## Strings"
   ]
  },
  {
   "cell_type": "code",
   "execution_count": 10,
   "metadata": {},
   "outputs": [
    {
     "name": "stdout",
     "output_type": "stream",
     "text": [
      "spam eggs\n",
      "doesn't\n",
      "doesn't\n",
      "\"Yes,\" they said.\n",
      "\"Yes,\" they said.\n",
      "\"Isn't,\" they said.\n"
     ]
    }
   ],
   "source": [
    "print('spam eggs') # single quotes\n",
    "print('doesn\\'t') # use \\' to escape the single quote...\n",
    "print(\"doesn't\") # ...or use double quotes instead\n",
    "print('\"Yes,\" they said.')\n",
    "print(\"\\\"Yes,\\\" they said.\")\n",
    "print('\"Isn\\'t,\" they said.')\n"
   ]
  },
  {
   "cell_type": "code",
   "execution_count": 6,
   "metadata": {},
   "outputs": [
    {
     "name": "stdout",
     "output_type": "stream",
     "text": [
      "\"Isn't,\" they said.\n",
      "First line.\n",
      "Second line.\n",
      "C:\\some\n",
      "ame\n",
      "C:\\some\\name\n"
     ]
    }
   ],
   "source": [
    "print('\"Isn\\'t,\" they said.')\n",
    "s = 'First line.\\nSecond line.' # \\n means newline\n",
    "print(s) # with print(), \\n produces a new line\n",
    "print('C:\\some\\name') # here \\n means newline!\n",
    "print(r'C:\\some\\name') # note the r before the quote"
   ]
  },
  {
   "cell_type": "code",
   "execution_count": 2,
   "metadata": {},
   "outputs": [
    {
     "name": "stdout",
     "output_type": "stream",
     "text": [
      "Usage: thingy [OPTIONS]\n",
      "        -h                        Display this usage message\n",
      "        -H hostname               Hostname to connect to\n",
      "\n"
     ]
    }
   ],
   "source": [
    "print(\"\"\"\\\n",
    "Usage: thingy [OPTIONS]\n",
    "        -h                        Display this usage message\n",
    "        -H hostname               Hostname to connect to\n",
    "\"\"\")"
   ]
  },
  {
   "cell_type": "code",
   "execution_count": 3,
   "metadata": {},
   "outputs": [
    {
     "name": "stdout",
     "output_type": "stream",
     "text": [
      "\n",
      "Usage: thingy [OPTIONS]\n",
      "        -h                        Display this usage message\n",
      "        -H hostname               Hostname to connect to\n",
      "\n"
     ]
    }
   ],
   "source": [
    "print(\"\"\"\n",
    "Usage: thingy [OPTIONS]\n",
    "        -h                        Display this usage message\n",
    "        -H hostname               Hostname to connect to\n",
    "\"\"\")"
   ]
  },
  {
   "cell_type": "code",
   "execution_count": 7,
   "metadata": {},
   "outputs": [
    {
     "name": "stdout",
     "output_type": "stream",
     "text": [
      "unununium\n"
     ]
    }
   ],
   "source": [
    "# Strings can be concatenated (glued together) with the + operator, and repeated with *:\n",
    "print(3 * 'un' + 'ium')"
   ]
  },
  {
   "cell_type": "code",
   "execution_count": 8,
   "metadata": {},
   "outputs": [
    {
     "data": {
      "text/plain": [
       "'Python'"
      ]
     },
     "execution_count": 8,
     "metadata": {},
     "output_type": "execute_result"
    }
   ],
   "source": [
    "# Two or more string literals (i.e. the ones enclosed between quotes) next to each other are automatically concatenated.\n",
    "s   = 'Py' 'thon'\n",
    "s"
   ]
  },
  {
   "cell_type": "code",
   "execution_count": 9,
   "metadata": {},
   "outputs": [
    {
     "data": {
      "text/plain": [
       "'Put several strings within parentheses to have them joined together.'"
      ]
     },
     "execution_count": 9,
     "metadata": {},
     "output_type": "execute_result"
    }
   ],
   "source": [
    "# This feature is particularly useful when you want to break long strings:\n",
    "text = ('Put several strings within parentheses '\n",
    "        'to have them joined together.')    \n",
    "text"
   ]
  },
  {
   "cell_type": "code",
   "execution_count": 11,
   "metadata": {},
   "outputs": [
    {
     "ename": "SyntaxError",
     "evalue": "invalid syntax (1524975163.py, line 3)",
     "output_type": "error",
     "traceback": [
      "\u001b[0;36m  Cell \u001b[0;32mIn[11], line 3\u001b[0;36m\u001b[0m\n\u001b[0;31m    prefix 'thon'  # can't concatenate a variable and a string literal\u001b[0m\n\u001b[0m           ^\u001b[0m\n\u001b[0;31mSyntaxError\u001b[0m\u001b[0;31m:\u001b[0m invalid syntax\n"
     ]
    }
   ],
   "source": [
    "# This only works with two literals though, not with variables or expressions:\n",
    "prefix = 'Py'\n",
    "prefix 'thon'  # can't concatenate a variable and a string literal"
   ]
  },
  {
   "cell_type": "code",
   "execution_count": 14,
   "metadata": {},
   "outputs": [
    {
     "data": {
      "text/plain": [
       "'Python'"
      ]
     },
     "execution_count": 14,
     "metadata": {},
     "output_type": "execute_result"
    }
   ],
   "source": [
    "# If you want to concatenate variables or a variable and a literal, use +:\n",
    "prefix = prefix + 'thon'\n",
    "prefix"
   ]
  },
  {
   "cell_type": "code",
   "execution_count": 15,
   "metadata": {},
   "outputs": [
    {
     "name": "stdout",
     "output_type": "stream",
     "text": [
      "P\n",
      "n\n"
     ]
    }
   ],
   "source": [
    "word = 'Python'\n",
    "print(word[0]) # character in position 0\n",
    "print(word[5]) # character in position 5"
   ]
  },
  {
   "cell_type": "code",
   "execution_count": 19,
   "metadata": {},
   "outputs": [
    {
     "name": "stdout",
     "output_type": "stream",
     "text": [
      "n\n",
      "o\n",
      "P\n",
      "P\n"
     ]
    }
   ],
   "source": [
    "# Indices may also be negative numbers, to start counting from the right:\n",
    "print(word[-1]) # last character\n",
    "print(word[-2]) # second-last character\n",
    "print(word[-6])\n",
    "print(word[-0]) # NOTE: -0 is the same as 0"
   ]
  },
  {
   "cell_type": "code",
   "execution_count": 20,
   "metadata": {},
   "outputs": [
    {
     "name": "stdout",
     "output_type": "stream",
     "text": [
      "Py\n",
      "tho\n"
     ]
    }
   ],
   "source": [
    "# Slicing\n",
    "print(word[0:2]) # characters from position 0 (included) to 2 (excluded)\n",
    "print(word[2:5]) # characters from position 2 (included) to 5 (excluded)"
   ]
  },
  {
   "cell_type": "code",
   "execution_count": 33,
   "metadata": {},
   "outputs": [
    {
     "name": "stdout",
     "output_type": "stream",
     "text": [
      "Py\n",
      "on\n",
      "on\n"
     ]
    }
   ],
   "source": [
    "print(word[:2] ) # character from the beginning to position 2 (excluded)\n",
    "print(word[4:] ) # characters from position 4 (included) to the end\n",
    "print(word[-2:]) # characters from the second-last (included) to the end"
   ]
  },
  {
   "cell_type": "code",
   "execution_count": 34,
   "metadata": {},
   "outputs": [
    {
     "name": "stdout",
     "output_type": "stream",
     "text": [
      "Python\n"
     ]
    }
   ],
   "source": [
    "print(word[:2] + word[2:])"
   ]
  },
  {
   "cell_type": "code",
   "execution_count": 35,
   "metadata": {},
   "outputs": [
    {
     "name": "stdout",
     "output_type": "stream",
     "text": [
      "Python\n"
     ]
    }
   ],
   "source": [
    "print(word[:4] + word[4:])"
   ]
  },
  {
   "cell_type": "code",
   "execution_count": 36,
   "metadata": {},
   "outputs": [
    {
     "ename": "IndexError",
     "evalue": "string index out of range",
     "output_type": "error",
     "traceback": [
      "\u001b[0;31m---------------------------------------------------------------------------\u001b[0m",
      "\u001b[0;31mIndexError\u001b[0m                                Traceback (most recent call last)",
      "Cell \u001b[0;32mIn[36], line 2\u001b[0m\n\u001b[1;32m      1\u001b[0m \u001b[39m# Attempting to use an index that is too large will result in an error:\u001b[39;00m\n\u001b[0;32m----> 2\u001b[0m \u001b[39mprint\u001b[39m(word[\u001b[39m42\u001b[39;49m]) \u001b[39m# the word only has 6 characters\u001b[39;00m\n",
      "\u001b[0;31mIndexError\u001b[0m: string index out of range"
     ]
    }
   ],
   "source": [
    "# Attempting to use an index that is too large will result in an error:\n",
    "print(word[42]) # the word only has 6 characters"
   ]
  },
  {
   "cell_type": "code",
   "execution_count": 37,
   "metadata": {},
   "outputs": [
    {
     "ename": "TypeError",
     "evalue": "'str' object does not support item assignment",
     "output_type": "error",
     "traceback": [
      "\u001b[0;31m---------------------------------------------------------------------------\u001b[0m",
      "\u001b[0;31mTypeError\u001b[0m                                 Traceback (most recent call last)",
      "Cell \u001b[0;32mIn[37], line 2\u001b[0m\n\u001b[1;32m      1\u001b[0m \u001b[39m# Python strings cannot be changed — they are immutable. Therefore, assigning to an indexed position in the string results in an error:\u001b[39;00m\n\u001b[0;32m----> 2\u001b[0m word[\u001b[39m0\u001b[39;49m] \u001b[39m=\u001b[39m \u001b[39m'\u001b[39m\u001b[39mJ\u001b[39m\u001b[39m'\u001b[39m\n",
      "\u001b[0;31mTypeError\u001b[0m: 'str' object does not support item assignment"
     ]
    }
   ],
   "source": [
    "# Python strings cannot be changed — they are immutable. Therefore, assigning to an indexed position in the string results in an error:\n",
    "word[0] = 'J'\n"
   ]
  },
  {
   "cell_type": "code",
   "execution_count": 38,
   "metadata": {},
   "outputs": [
    {
     "name": "stdout",
     "output_type": "stream",
     "text": [
      "Jython\n",
      "Pypy\n"
     ]
    }
   ],
   "source": [
    "# If you need a different string, you should create a new one:\n",
    "print('J' + word[1:])\n",
    "print(word[:2] + 'py')"
   ]
  },
  {
   "cell_type": "code",
   "execution_count": 39,
   "metadata": {},
   "outputs": [
    {
     "data": {
      "text/plain": [
       "34"
      ]
     },
     "execution_count": 39,
     "metadata": {},
     "output_type": "execute_result"
    }
   ],
   "source": [
    "# The built-in function len() returns the length of a string:\n",
    "s = 'supercalifragilisticexpialidocious'\n",
    "len(s)"
   ]
  },
  {
   "attachments": {},
   "cell_type": "markdown",
   "metadata": {},
   "source": [
    "## String Methods"
   ]
  },
  {
   "attachments": {},
   "cell_type": "markdown",
   "metadata": {},
   "source": [
    "1. capitalize(): Capitalizes first letter of string and lowercases all other letters."
   ]
  },
  {
   "cell_type": "code",
   "execution_count": 3,
   "metadata": {},
   "outputs": [
    {
     "name": "stdout",
     "output_type": "stream",
     "text": [
      "Hello\n",
      "Hello\n"
     ]
    },
    {
     "data": {
      "text/plain": [
       "'Niño'"
      ]
     },
     "execution_count": 3,
     "metadata": {},
     "output_type": "execute_result"
    }
   ],
   "source": [
    "print(\"hello\".capitalize())\n",
    "print(\"heLLO\".capitalize())\n",
    "'niño'.capitalize() "
   ]
  },
  {
   "attachments": {},
   "cell_type": "markdown",
   "metadata": {},
   "source": [
    "2. casefold(): Returns a casefolded copy of the string. Casefolded strings may be used for caseless matching.\n",
    "It is similar to lower() method but case removes all the case distinctions present in a string. It is used for caseless matching, i.e. ignores cases when comparing."
   ]
  },
  {
   "cell_type": "code",
   "execution_count": 6,
   "metadata": {},
   "outputs": [
    {
     "name": "stdout",
     "output_type": "stream",
     "text": [
      "hello\n",
      "ss\n"
     ]
    }
   ],
   "source": [
    "print('Hello'.casefold())\n",
    "print('ß'.casefold() ) # German eszett to ss "
   ]
  },
  {
   "attachments": {},
   "cell_type": "markdown",
   "metadata": {},
   "source": [
    "3. center(): Returns a space-padded string with the original string centered to a total of width columns."
   ]
  },
  {
   "cell_type": "code",
   "execution_count": 13,
   "metadata": {},
   "outputs": [
    {
     "name": "stdout",
     "output_type": "stream",
     "text": [
      "                                                cat                                                 \n",
      "cat\n",
      "*cat*\n"
     ]
    }
   ],
   "source": [
    "print('cat'.center(100))\n",
    "print('cat')\n"
   ]
  },
  {
   "attachments": {},
   "cell_type": "markdown",
   "metadata": {},
   "source": [
    "4. count(): Returns the number of non-overlapping occurrences of substring sub in the range [start, end]. Optional arguments start and end are interpreted as in slice notation."
   ]
  },
  {
   "cell_type": "code",
   "execution_count": 15,
   "metadata": {},
   "outputs": [
    {
     "name": "stdout",
     "output_type": "stream",
     "text": [
      "2\n",
      "1\n"
     ]
    }
   ],
   "source": [
    "print('catcat'.count('cat'))\n",
    "print('catcat'.count('cat', 0, 3))  # Count in first 3 characters"
   ]
  },
  {
   "cell_type": "code",
   "execution_count": 17,
   "metadata": {},
   "outputs": [
    {
     "data": {
      "text/plain": [
       "4"
      ]
     },
     "execution_count": 17,
     "metadata": {},
     "output_type": "execute_result"
    }
   ],
   "source": [
    "# If the substring is empty, it will count the number of empty strings between each character plus 1. For example:\n",
    "'abc'.count('')  \n",
    "# This counts 3 empty strings between a, b and c, plus 1 for the empty string from index 3 to the end."
   ]
  },
  {
   "attachments": {},
   "cell_type": "markdown",
   "metadata": {},
   "source": [
    "5. endsWith(): Returns True if string ends with the suffix, otherwise returns False optionally restricting the matching with the given indices start and end."
   ]
  },
  {
   "cell_type": "code",
   "execution_count": 19,
   "metadata": {},
   "outputs": [
    {
     "name": "stdout",
     "output_type": "stream",
     "text": [
      "True\n",
      "False\n",
      "True\n"
     ]
    }
   ],
   "source": [
    "print('hello'.endswith('o'))\n",
    "print('hello'.endswith('x'))\n",
    "print('shahzaib'.endswith('za',0,6))"
   ]
  },
  {
   "cell_type": "code",
   "execution_count": 23,
   "metadata": {},
   "outputs": [
    {
     "name": "stdout",
     "output_type": "stream",
     "text": [
      "True\n",
      "True\n",
      "True\n",
      "False\n"
     ]
    }
   ],
   "source": [
    "# You can also specify a tuple of suffixes, and the method will return True if the string ends with any of them. For example:\n",
    "print('Shahzaib Hassan'.endswith(('n','an')))\n",
    "print('Shahzaib Hassan'.endswith(('n','a')))\n",
    "print('Shahzaib Hassan'.endswith(('b','an')))\n",
    "print('Shahzaib Hassan'.endswith(('b','ab')))"
   ]
  },
  {
   "attachments": {},
   "cell_type": "markdown",
   "metadata": {},
   "source": [
    "6. find(): Returns the lowest index in string where substring sub is found within the slice s[start:end]. Optional arguments start and end are interpreted as in slice notation. Returns -1 if sub is not found."
   ]
  },
  {
   "cell_type": "code",
   "execution_count": 24,
   "metadata": {},
   "outputs": [
    {
     "name": "stdout",
     "output_type": "stream",
     "text": [
      "1\n",
      "2\n",
      "9\n",
      "6\n"
     ]
    }
   ],
   "source": [
    "print('hello'.find('e'))\n",
    "print('hello'.find('l'))\n",
    "print('shahzaib hassan'.find('has'))\n",
    "print('Afnan is my life . She is a very beautiful and charming girl'.find('is'))\n"
   ]
  },
  {
   "attachments": {},
   "cell_type": "markdown",
   "metadata": {},
   "source": [
    "7. index(): The find() method returns -1 if the value is not found. The index() method raises an exception (i.e. ValueError) when the value is not found."
   ]
  },
  {
   "attachments": {},
   "cell_type": "markdown",
   "metadata": {},
   "source": [
    "8. isalnum(): Returns True if string has at least 1 character and all characters are alphanumeric and False otherwise."
   ]
  },
  {
   "cell_type": "code",
   "execution_count": 27,
   "metadata": {},
   "outputs": [
    {
     "name": "stdout",
     "output_type": "stream",
     "text": [
      "True\n",
      "True\n",
      "False\n",
      "False\n"
     ]
    }
   ],
   "source": [
    "print('hello'.isalnum())\n",
    "print('hello123'.isalnum())\n",
    "print('hello!'.isalnum())\n",
    "print('abc '.isalnum())  # Space is not alphanumeric \n"
   ]
  },
  {
   "cell_type": "code",
   "execution_count": 33,
   "metadata": {},
   "outputs": [
    {
     "name": "stdout",
     "output_type": "stream",
     "text": [
      "False\n",
      "True\n",
      "False\n"
     ]
    }
   ],
   "source": [
    "print('shah1'.isalpha())\n",
    "print('shah'.isalpha())\n",
    "print('abc '.isalpha())  # Space is not a letter"
   ]
  },
  {
   "attachments": {},
   "cell_type": "markdown",
   "metadata": {},
   "source": [
    "9. isdecimal(): Returns True if a unicode string contains only decimal characters and False otherwise."
   ]
  },
  {
   "cell_type": "code",
   "execution_count": 35,
   "metadata": {},
   "outputs": [
    {
     "name": "stdout",
     "output_type": "stream",
     "text": [
      "True\n",
      "False\n",
      "False\n",
      "False\n"
     ]
    }
   ],
   "source": [
    "print('1234'.isdecimal())\n",
    "print('12.34'.isdecimal()) # . is not decimal\n",
    "print('abc'.isdecimal())\n",
    "print('-1234'.isdecimal()) #- is not decimal"
   ]
  },
  {
   "attachments": {},
   "cell_type": "markdown",
   "metadata": {},
   "source": [
    "10. isdigit(): Returns True if string contains only digits and False otherwise.\n",
    "- This method is useful for the same reasons as .isdecimal(), but includes a wider range of digit characters."
   ]
  },
  {
   "attachments": {},
   "cell_type": "markdown",
   "metadata": {},
   "source": [
    "11. islower(): Returns True if string has at least 1 cased character and all cased characters are in lowercase and False otherwise."
   ]
  },
  {
   "cell_type": "code",
   "execution_count": 37,
   "metadata": {},
   "outputs": [
    {
     "name": "stdout",
     "output_type": "stream",
     "text": [
      "True\n",
      "False\n"
     ]
    }
   ],
   "source": [
    "print('shahzaib'.islower())\n",
    "print('shahzAib'.islower())"
   ]
  },
  {
   "attachments": {},
   "cell_type": "markdown",
   "metadata": {},
   "source": [
    "12. isnumeric(): Returns True if a unicode string contains only numeric characters and False otherwise."
   ]
  },
  {
   "attachments": {},
   "cell_type": "markdown",
   "metadata": {},
   "source": [
    "So in summary:\n",
    "- .isnumeric() is the most broad, and includes all numeric characters.\n",
    "- .isdigit() is narrower, and only includes ASCII digits.\n",
    "- .isdecimal() is the narrowest, and only includes decimal digits, excluding other numeric characters."
   ]
  },
  {
   "attachments": {},
   "cell_type": "markdown",
   "metadata": {},
   "source": [
    "13. isspace(): Returns True if string contains only whitespace characters and False otherwise."
   ]
  },
  {
   "attachments": {},
   "cell_type": "markdown",
   "metadata": {},
   "source": [
    "14. istitle(): Returns True if string is properly \"titlecased\" and False otherwise."
   ]
  },
  {
   "cell_type": "code",
   "execution_count": 2,
   "metadata": {},
   "outputs": [
    {
     "name": "stdout",
     "output_type": "stream",
     "text": [
      "True\n",
      "True\n",
      "False\n",
      "False\n"
     ]
    }
   ],
   "source": [
    "print('Hello'.istitle())\n",
    "print('Hello   There'.istitle())\n",
    "print('Hello there'.istitle())\n",
    "print('This Is TITLE Case'.istitle())"
   ]
  },
  {
   "attachments": {},
   "cell_type": "markdown",
   "metadata": {},
   "source": [
    "15. isupper(): Returns True if string has at least one cased character and all cased characters are in uppercase and False otherwise."
   ]
  },
  {
   "cell_type": "code",
   "execution_count": 3,
   "metadata": {},
   "outputs": [
    {
     "name": "stdout",
     "output_type": "stream",
     "text": [
      "True\n",
      "False\n",
      "False\n",
      "True\n"
     ]
    }
   ],
   "source": [
    "print('HELLO'.isupper())\n",
    "print('Hello'.isupper())\n",
    "print('123'.isupper())\n",
    "print('ABC123'.isupper())"
   ]
  },
  {
   "attachments": {},
   "cell_type": "markdown",
   "metadata": {},
   "source": [
    "16. join(): Returns a string in which the string elements of sequence have been joined by str separator."
   ]
  },
  {
   "cell_type": "code",
   "execution_count": 9,
   "metadata": {},
   "outputs": [
    {
     "ename": "SyntaxError",
     "evalue": "incomplete input (4042476209.py, line 6)",
     "output_type": "error",
     "traceback": [
      "\u001b[0;36m  Cell \u001b[0;32mIn[9], line 6\u001b[0;36m\u001b[0m\n\u001b[0;31m    print(''.join([1, 2, 3])   # TypeError)\u001b[0m\n\u001b[0m                                           ^\u001b[0m\n\u001b[0;31mSyntaxError\u001b[0m\u001b[0;31m:\u001b[0m incomplete input\n"
     ]
    }
   ],
   "source": [
    "print('-'.join(['a', 'b', 'c']) )\n",
    "print(':'.join(['a', 'b', 'c']))\n",
    "print(' '.join(['Hello', 'Hi']))\n",
    "print(''.join(['abc']))\n",
    "# Non-string values raise error \n",
    "print(''.join([1, 2, 3])   # TypeError)"
   ]
  },
  {
   "attachments": {},
   "cell_type": "markdown",
   "metadata": {},
   "source": [
    "17. lower(): Returns a copy of the string with all the cased characters converted to lowercase."
   ]
  },
  {
   "cell_type": "code",
   "execution_count": 11,
   "metadata": {},
   "outputs": [
    {
     "name": "stdout",
     "output_type": "stream",
     "text": [
      "hello\n",
      "hello world!\n",
      "ß\n"
     ]
    }
   ],
   "source": [
    "print('HELLO'.lower())\n",
    "print('Hello World!'.lower())\n",
    "print('ß'.lower())  # German eszett"
   ]
  },
  {
   "attachments": {},
   "cell_type": "markdown",
   "metadata": {},
   "source": [
    "18. lstrip(): Returns a copy of the string with leading characters removed. The chars argument is a string specifying the set of characters to be removed. If omitted or None, the chars argument defaults to removing whitespace. The chars argument is not a prefix; rather, all combinations of its values are stripped."
   ]
  },
  {
   "cell_type": "code",
   "execution_count": 12,
   "metadata": {},
   "outputs": [
    {
     "name": "stdout",
     "output_type": "stream",
     "text": [
      "hello  \n",
      "c   hello  \n",
      "\n",
      "\n"
     ]
    }
   ],
   "source": [
    "print('   hello  '.lstrip())\n",
    "print('abc   hello  '.lstrip('ab'))\n",
    "print()\n",
    "print()"
   ]
  },
  {
   "attachments": {},
   "cell_type": "markdown",
   "metadata": {},
   "source": [
    "- It returns a new string, rather than modifying the original string.\n",
    "- It removes characters from the left side of the string, starting from the first character.\n",
    "- If no argument is passed, it removes whitespace characters (space, tab, newline)\n",
    "- The characters to strip can be passed as a string argument. All combinations of those characters will be stripped.\n",
    "- It does not remove the character if it appears later in the string. Only leading characters are removed."
   ]
  },
  {
   "attachments": {},
   "cell_type": "markdown",
   "metadata": {},
   "source": [
    "19. removeprefix(): Return a copy of the string with the given prefix string removed. If the string starts with the prefix string, return string[len(prefix):]. Otherwise, return a copy of the original string."
   ]
  },
  {
   "cell_type": "code",
   "execution_count": 13,
   "metadata": {},
   "outputs": [
    {
     "name": "stdout",
     "output_type": "stream",
     "text": [
      "Hook\n",
      "BaseTestCase\n"
     ]
    }
   ],
   "source": [
    "print('TestHook'.removeprefix('Test'))\n",
    "print('BaseTestCase'.removeprefix('Test'))"
   ]
  },
  {
   "attachments": {},
   "cell_type": "markdown",
   "metadata": {},
   "source": [
    "20. remove suffix(): Return a copy of the string with the given suffix removed. If the string ends with the suffix string, return string[:-len(suffix)]. Otherwise, return a copy of the original string."
   ]
  },
  {
   "cell_type": "code",
   "execution_count": 14,
   "metadata": {},
   "outputs": [
    {
     "name": "stdout",
     "output_type": "stream",
     "text": [
      "Misc\n",
      "TmpDirMixin\n"
     ]
    }
   ],
   "source": [
    "print('MiscTests'.removesuffix('Tests'))\n",
    "print('TmpDirMixin'.removesuffix('Tests'))"
   ]
  },
  {
   "attachments": {},
   "cell_type": "markdown",
   "metadata": {},
   "source": [
    "21. replace(): Returns a copy of the string with all occurrences of substring old replaced by new. If the optional argument count is given, only the first count occurrences are replaced."
   ]
  },
  {
   "cell_type": "code",
   "execution_count": 17,
   "metadata": {},
   "outputs": [
    {
     "name": "stdout",
     "output_type": "stream",
     "text": [
      "hexxo\n",
      "hexlo\n"
     ]
    }
   ],
   "source": [
    "print('hello'.replace('l', 'x'))\n",
    "print('hello'.replace('l', 'x', 2))  # Replace only first 2"
   ]
  },
  {
   "attachments": {},
   "cell_type": "markdown",
   "metadata": {},
   "source": [
    "22. split(): Returns a list of the words in the string, using sep as the delimiter string. If maxsplit is given, at most maxsplit splits are done (thus, the list will have at most maxsplit+1 elements). If maxsplit is not specified or -1, then there is no limit on the number of splits (all possible splits are made)."
   ]
  },
  {
   "cell_type": "code",
   "execution_count": 20,
   "metadata": {},
   "outputs": [
    {
     "name": "stdout",
     "output_type": "stream",
     "text": [
      "['1', '2', '3']\n",
      "['1', '2,3']\n",
      "['1', '2', '', '3', '']\n"
     ]
    }
   ],
   "source": [
    "print('1,2,3'.split(','))\n",
    "print('1,2,3'.split(',', maxsplit=1))\n",
    "print('1,2,,3,'.split(','))"
   ]
  },
  {
   "attachments": {},
   "cell_type": "markdown",
   "metadata": {},
   "source": [
    "23. strip(): Returns a copy of the string with the leading and trailing characters removed. The chars argument is a string specifying the set of characters to be removed. If omitted or None, the chars argument defaults to removing whitespace. The chars argument is not a prefix or suffix; rather, all combinations of its values are stripped."
   ]
  },
  {
   "cell_type": "code",
   "execution_count": 2,
   "metadata": {},
   "outputs": [
    {
     "name": "stdout",
     "output_type": "stream",
     "text": [
      "spacious\n",
      "example\n"
     ]
    }
   ],
   "source": [
    "print('   spacious   '.strip())\n",
    "print('www.example.com'.strip('cmowz.'))"
   ]
  },
  {
   "attachments": {},
   "cell_type": "markdown",
   "metadata": {},
   "source": [
    "24. swapcase(): Returns a copy of the string with uppercase characters converted to lowercase and vice versa."
   ]
  },
  {
   "attachments": {},
   "cell_type": "markdown",
   "metadata": {},
   "source": [
    "25. title(): Returns a titlecased version of the string where words start with an uppercase character and the remaining characters are lowercase."
   ]
  },
  {
   "attachments": {},
   "cell_type": "markdown",
   "metadata": {},
   "source": [
    "26. upper(): Returns a copy of the string with all the cased characters converted to uppercase."
   ]
  },
  {
   "cell_type": "code",
   "execution_count": null,
   "metadata": {},
   "outputs": [],
   "source": [
    "print('Hello world'.title())\n",
    "print(\"they're bill's friends from the UK\".title())\n",
    "print()\n",
    "print()\n"
   ]
  },
  {
   "cell_type": "code",
   "execution_count": 3,
   "metadata": {},
   "outputs": [
    {
     "data": {
      "text/plain": [
       "\"They're Bill's Friends.\""
      ]
     },
     "execution_count": 3,
     "metadata": {},
     "output_type": "execute_result"
    }
   ],
   "source": [
    "# Alternatively\n",
    "import re\n",
    "def titlecase(s):\n",
    "    return re.sub(r\"[A-Za-z]+('[A-Za-z]+)?\",\n",
    "                  lambda mo: mo.group(0).capitalize(),\n",
    "                  s)\n",
    "\n",
    "titlecase(\"they're bill's friends.\")\n",
    "\n"
   ]
  },
  {
   "cell_type": "code",
   "execution_count": null,
   "metadata": {},
   "outputs": [],
   "source": []
  },
  {
   "attachments": {},
   "cell_type": "markdown",
   "metadata": {},
   "source": [
    "## Lists"
   ]
  },
  {
   "cell_type": "code",
   "execution_count": 40,
   "metadata": {},
   "outputs": [
    {
     "name": "stdout",
     "output_type": "stream",
     "text": [
      "[1, 4, 9, 16, 25]\n"
     ]
    }
   ],
   "source": [
    "squares = [1, 4, 9, 16, 25]\n",
    "print(squares)"
   ]
  },
  {
   "cell_type": "code",
   "execution_count": 42,
   "metadata": {},
   "outputs": [
    {
     "name": "stdout",
     "output_type": "stream",
     "text": [
      "1\n",
      "25\n",
      "[9, 16, 25]\n"
     ]
    }
   ],
   "source": [
    "print(squares[0]) # indexing returns the item\n",
    "print(squares[-1])\n",
    "print(squares[-3:]) # slicing returns a new list \n",
    "# Note that the slices are shallow copies. This means that if you modify the new list, the original list is not affected."
   ]
  },
  {
   "cell_type": "code",
   "execution_count": 44,
   "metadata": {},
   "outputs": [
    {
     "data": {
      "text/plain": [
       "[1, 4, 9, 16, 25, 36, 49, 64, 81, 100]"
      ]
     },
     "execution_count": 44,
     "metadata": {},
     "output_type": "execute_result"
    }
   ],
   "source": [
    "# Lists also support operations like concatenation:\n",
    "squares + [36, 49, 64, 81, 100]"
   ]
  },
  {
   "cell_type": "code",
   "execution_count": 46,
   "metadata": {},
   "outputs": [
    {
     "data": {
      "text/plain": [
       "[1, 8, 27, 64, 125]"
      ]
     },
     "execution_count": 46,
     "metadata": {},
     "output_type": "execute_result"
    }
   ],
   "source": [
    "# Unlike strings, which are immutable, lists are a mutable type, i.e. it is possible to change their content:\n",
    "cubes = [1, 8, 27, 65, 125] # something's wrong here\n",
    "# 4 ** 3 --> the cube of 4 is 64, not 65!\n",
    "cubes[3] = 64 # replace the wrong value\n",
    "cubes"
   ]
  },
  {
   "cell_type": "code",
   "execution_count": 47,
   "metadata": {},
   "outputs": [
    {
     "data": {
      "text/plain": [
       "[1, 8, 27, 64, 125, 216, 343]"
      ]
     },
     "execution_count": 47,
     "metadata": {},
     "output_type": "execute_result"
    }
   ],
   "source": [
    "# You can also add new items at the end of the list, by using the append() method (we will see more about methods later):\n",
    "cubes.append(216) # add the cube of 6\n",
    "cubes.append(7 ** 3) # and the cube of 7\n",
    "cubes"
   ]
  },
  {
   "cell_type": "code",
   "execution_count": 48,
   "metadata": {},
   "outputs": [
    {
     "name": "stdout",
     "output_type": "stream",
     "text": [
      "['a', 'b', 'c', 'd', 'e', 'f', 'g']\n"
     ]
    }
   ],
   "source": [
    "# Assignment to slices is also possible, and this can even change the size of the list or clear it entirely:\n",
    "\n",
    "letters = ['a', 'b', 'c', 'd', 'e', 'f', 'g']\n",
    "print(letters)"
   ]
  },
  {
   "cell_type": "code",
   "execution_count": 50,
   "metadata": {},
   "outputs": [
    {
     "data": {
      "text/plain": [
       "['a', 'b', 'C', 'D', 'E', 'f', 'g']"
      ]
     },
     "execution_count": 50,
     "metadata": {},
     "output_type": "execute_result"
    }
   ],
   "source": [
    "# replace some values\n",
    "letters[2:5] = ['C', 'D', 'E']\n",
    "letters"
   ]
  },
  {
   "cell_type": "code",
   "execution_count": 52,
   "metadata": {},
   "outputs": [
    {
     "data": {
      "text/plain": [
       "['a', 'b']"
      ]
     },
     "execution_count": 52,
     "metadata": {},
     "output_type": "execute_result"
    }
   ],
   "source": [
    "# now remove them\n",
    "letters[2:5] = []\n",
    "letters"
   ]
  },
  {
   "cell_type": "code",
   "execution_count": 53,
   "metadata": {},
   "outputs": [
    {
     "data": {
      "text/plain": [
       "[]"
      ]
     },
     "execution_count": 53,
     "metadata": {},
     "output_type": "execute_result"
    }
   ],
   "source": [
    "# clear the list by replacing all the elements with an empty list\n",
    "letters[:] = []\n",
    "letters"
   ]
  },
  {
   "cell_type": "code",
   "execution_count": 54,
   "metadata": {},
   "outputs": [
    {
     "data": {
      "text/plain": [
       "4"
      ]
     },
     "execution_count": 54,
     "metadata": {},
     "output_type": "execute_result"
    }
   ],
   "source": [
    "# The built-in function len() also applies to lists:\n",
    "letters = ['a', 'b', 'c', 'd']\n",
    "len(letters)"
   ]
  },
  {
   "cell_type": "code",
   "execution_count": 56,
   "metadata": {},
   "outputs": [
    {
     "data": {
      "text/plain": [
       "[['a', 'b', 'c'], [1, 2, 3]]"
      ]
     },
     "execution_count": 56,
     "metadata": {},
     "output_type": "execute_result"
    }
   ],
   "source": [
    "# It is possible to nest lists (create lists containing other lists), for example:\n",
    "a = ['a', 'b', 'c']\n",
    "n = [1, 2, 3]\n",
    "x = [a, n]\n",
    "x"
   ]
  },
  {
   "cell_type": "code",
   "execution_count": 58,
   "metadata": {},
   "outputs": [
    {
     "name": "stdout",
     "output_type": "stream",
     "text": [
      "['a', 'b', 'c']\n",
      "b\n"
     ]
    }
   ],
   "source": [
    "print(x[0])\n",
    "print(x[0][1])"
   ]
  },
  {
   "cell_type": "code",
   "execution_count": 62,
   "metadata": {},
   "outputs": [
    {
     "name": "stdout",
     "output_type": "stream",
     "text": [
      "0 1 1 2 3 5 8 \n"
     ]
    }
   ],
   "source": [
    "# First Steps Towards Programming\n",
    "# Fibonacci series:\n",
    "# the sum of two elements defines the next\n",
    "n = int(input('Enter a number: '))\n",
    "a, b = 0, 1\n",
    "while a < n:\n",
    "    print(a, end=' ')\n",
    "    a, b = b, a+b\n",
    "print()"
   ]
  },
  {
   "cell_type": "code",
   "execution_count": null,
   "metadata": {},
   "outputs": [],
   "source": []
  }
 ],
 "metadata": {
  "kernelspec": {
   "display_name": "Python 3",
   "language": "python",
   "name": "python3"
  },
  "language_info": {
   "codemirror_mode": {
    "name": "ipython",
    "version": 3
   },
   "file_extension": ".py",
   "mimetype": "text/x-python",
   "name": "python",
   "nbconvert_exporter": "python",
   "pygments_lexer": "ipython3",
   "version": "3.10.4"
  },
  "orig_nbformat": 4
 },
 "nbformat": 4,
 "nbformat_minor": 2
}
