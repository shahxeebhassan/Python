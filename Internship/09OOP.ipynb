{
 "cells": [
  {
   "cell_type": "code",
   "execution_count": 5,
   "metadata": {},
   "outputs": [
    {
     "name": "stdout",
     "output_type": "stream",
     "text": [
      "Laptop 12 0\n",
      "0\n",
      "TV 3000 4\n",
      "12000\n",
      "AC 4000 5\n",
      "20000\n"
     ]
    }
   ],
   "source": [
    "class Item:\n",
    "    def __init__(self,name: str,price:float,quantity=0):\n",
    "        # Run some code to validate the received arguments\n",
    "        assert price >= 0 , f\"Price {price} is not greater than or equal to zero\"\n",
    "        assert quantity >= 0 , f\"Quantity {quantity} is not greater than or equal to zero\"\n",
    "        assert type(quantity) == int , f\"Quantity {quantity} is not an integer\"\n",
    "        assert type(name) == str , f\"Name {name} is not a string\"\n",
    "        self.name = name\n",
    "        self.price = price\n",
    "        self.quantity = quantity\n",
    "    def calculate_total_price(self):\n",
    "        return self.price * self.quantity\n",
    "    \n",
    "item1 = Item(\"Laptop\" ,12)\n",
    "item2 = Item(\"TV\",3000,4)\n",
    "item3 = Item(\"AC\",4000,5)\n",
    "\n",
    "\n",
    "print(item1.name ,item1.price ,item1.quantity)\n",
    "print(item1.calculate_total_price())\n",
    "print(item2.name ,item2.price ,item2.quantity)\n",
    "print(item2.calculate_total_price())\n",
    "print(item3.name ,item3.price ,item3.quantity)\n",
    "print(item3.calculate_total_price())"
   ]
  },
  {
   "cell_type": "code",
   "execution_count": null,
   "metadata": {},
   "outputs": [],
   "source": []
  }
 ],
 "metadata": {
  "kernelspec": {
   "display_name": "Python 3",
   "language": "python",
   "name": "python3"
  },
  "language_info": {
   "codemirror_mode": {
    "name": "ipython",
    "version": 3
   },
   "file_extension": ".py",
   "mimetype": "text/x-python",
   "name": "python",
   "nbconvert_exporter": "python",
   "pygments_lexer": "ipython3",
   "version": "3.10.4"
  },
  "orig_nbformat": 4
 },
 "nbformat": 4,
 "nbformat_minor": 2
}
