{
 "cells": [
  {
   "cell_type": "code",
   "execution_count": 1,
   "metadata": {},
   "outputs": [
    {
     "data": {
      "text/plain": [
       "1118"
      ]
     },
     "execution_count": 1,
     "metadata": {},
     "output_type": "execute_result"
    }
   ],
   "source": [
    "# Write a function that takes a list of numbers as input and returns the sum of all the numbers.\n",
    "def sum_of_nos(listofnos):\n",
    "    return sum(listofnos)\n",
    "\n",
    "list_of_nos = [1,2,3,45,6,7,8,9,6,555,443,32,1]\n",
    "sum_of_nos(list_of_nos)"
   ]
  },
  {
   "cell_type": "code",
   "execution_count": 2,
   "metadata": {},
   "outputs": [
    {
     "data": {
      "text/plain": [
       "'biazhahS'"
      ]
     },
     "execution_count": 2,
     "metadata": {},
     "output_type": "execute_result"
    }
   ],
   "source": [
    "# Write a function that takes a string as input and returns the reversed version of the string.\n",
    "def revers_str(string):\n",
    "    return string[::-1]\n",
    "\n",
    "string = \"Shahzaib\"\n",
    "revers_str(string=string)"
   ]
  },
  {
   "cell_type": "code",
   "execution_count": 10,
   "metadata": {},
   "outputs": [
    {
     "data": {
      "text/plain": [
       "['Ali', 'Shahzaib', 'afnan']"
      ]
     },
     "execution_count": 10,
     "metadata": {},
     "output_type": "execute_result"
    }
   ],
   "source": [
    "# Write a function that takes a list of strings as input and returns a new list with the strings sorted in alphabetical order.\n",
    "def sort_alphabetically(listofstrings):\n",
    "    return sorted(listofstrings)\n",
    "\n",
    "names = ['Shahzaib',\"afnan\",\"Ali\"]\n",
    "sort_alphabetically(names)"
   ]
  },
  {
   "cell_type": "code",
   "execution_count": 12,
   "metadata": {},
   "outputs": [
    {
     "data": {
      "text/plain": [
       "3628800"
      ]
     },
     "execution_count": 12,
     "metadata": {},
     "output_type": "execute_result"
    }
   ],
   "source": [
    "# Write a function that takes a tuple of numbers as input and returns the product of all the numbers. -->\n",
    "def productoftuple(*,tpl):\n",
    "    product = 1\n",
    "    for x in tpl:\n",
    "        product *= x\n",
    "    return product\n",
    "\n",
    "tuplofnos = (1,2,3,4,5,6,7,8,9,10)\n",
    "productoftuple(tpl=tuplofnos)"
   ]
  },
  {
   "cell_type": "code",
   "execution_count": 14,
   "metadata": {},
   "outputs": [
    {
     "data": {
      "text/plain": [
       "{1,\n",
       " 2,\n",
       " 3,\n",
       " 4,\n",
       " 5,\n",
       " 6,\n",
       " 21,\n",
       " 33,\n",
       " 44,\n",
       " 231,\n",
       " 444,\n",
       " 2131,\n",
       " 21342,\n",
       " 35234,\n",
       " 53453,\n",
       " 56464,\n",
       " 232354353}"
      ]
     },
     "execution_count": 14,
     "metadata": {},
     "output_type": "execute_result"
    }
   ],
   "source": [
    "# Write a function that takes a list of numbers as input and returns a set containing only the unique numbers from the list.\n",
    "def unique(list_of_nos):\n",
    "    return set(list_of_nos)\n",
    "\n",
    "list_of_nos = [1,1,2,3,33,4,5,6,44,3,3,444,33,44,56464,53453,232354353,35234,2131,231,21,21342,21]\n",
    "\n",
    "unique(list_of_nos)"
   ]
  },
  {
   "cell_type": "code",
   "execution_count": 15,
   "metadata": {},
   "outputs": [
    {
     "data": {
      "text/plain": [
       "['two', 'four', 'six']"
      ]
     },
     "execution_count": 15,
     "metadata": {},
     "output_type": "execute_result"
    }
   ],
   "source": [
    "# Write a function that takes a dictionary as input and returns a list of keys that have their corresponding values as even numbers.\n",
    "def evenkeys(dicitoanry):\n",
    "    ans = []\n",
    "    for j,k in dicitoanry.items():\n",
    "        if k%2==0:\n",
    "            ans.append(j)\n",
    "    return ans\n",
    "dictionary = {'one':1,'two':2,'three':3,'four':4,'five':5,'six':6}\n",
    "\n",
    "evenkeys(dicitoanry=dictionary)"
   ]
  },
  {
   "cell_type": "code",
   "execution_count": 19,
   "metadata": {},
   "outputs": [
    {
     "data": {
      "text/plain": [
       "{'Afraz': 5, 'Ali': 3, 'Shahzaib': 8, 'Alllah': 6, 'Hassan': 6}"
      ]
     },
     "execution_count": 19,
     "metadata": {},
     "output_type": "execute_result"
    }
   ],
   "source": [
    "# Write a function that takes a list of strings as input and returns a dictionary where the keys are the strings and the values are the lengths of the strings.\n",
    "\n",
    "def chwli(listofstr):\n",
    "    ans = {}\n",
    "    for i in listofstr:\n",
    "        ans[i]=len(i)\n",
    "    return ans \n",
    "names = ['Afraz','Ali',\"Shahzaib\",\"Alllah\",\"Hassan\"]\n",
    "chwli(names)"
   ]
  },
  {
   "cell_type": "code",
   "execution_count": 20,
   "metadata": {},
   "outputs": [
    {
     "data": {
      "text/plain": [
       "{'h': 3,\n",
       " 's': 10,\n",
       " 'H': 1,\n",
       " 'k': 1,\n",
       " 'o': 5,\n",
       " 'u': 3,\n",
       " 'i': 9,\n",
       " 'p': 1,\n",
       " 'v': 1,\n",
       " 'a': 18,\n",
       " 'd': 6,\n",
       " ' ': 22,\n",
       " 'r': 6,\n",
       " 'l': 3,\n",
       " '.': 3,\n",
       " 'M': 1,\n",
       " 'n': 12,\n",
       " 'b': 2,\n",
       " 't': 2,\n",
       " 'E': 1,\n",
       " 'A': 2,\n",
       " 'w': 2,\n",
       " 'z': 1,\n",
       " 'y': 4,\n",
       " 'g': 2,\n",
       " 'T': 1,\n",
       " 'I': 1,\n",
       " 'e': 8,\n",
       " 'm': 7}"
      ]
     },
     "execution_count": 20,
     "metadata": {},
     "output_type": "execute_result"
    }
   ],
   "source": [
    "# Write a function that takes a string as input and counts the number of occurrences of each character in the string. Return the result as a dictionary where the keys are the characters and the values are the counts.\n",
    "def countoccurances(string):\n",
    "    count = {}\n",
    "    letters = set(string)\n",
    "    for character in letters:\n",
    "        count[character] = string.count(character)\n",
    "    return count\n",
    "\n",
    "string = \"Assalamualaikum and good morning everyone.My name is shahzaib Hassan and i am in my early Twenties.I was born and raised in Ahmadpur East.\"\n",
    "countoccurances(string)"
   ]
  },
  {
   "cell_type": "code",
   "execution_count": 22,
   "metadata": {},
   "outputs": [
    {
     "data": {
      "text/plain": [
       "[2, 4, 6, 44, 444, 44, 56464, 35234, 21342]"
      ]
     },
     "execution_count": 22,
     "metadata": {},
     "output_type": "execute_result"
    }
   ],
   "source": [
    "# Write a function that takes a list of numbers as input and returns a new list with only the even numbers from the original list.\n",
    "def evennos(list_of_nos):\n",
    "    return [x for x in list_of_nos if x % 2 == 0]\n",
    "\n",
    "evennos(list_of_nos)"
   ]
  },
  {
   "cell_type": "code",
   "execution_count": 23,
   "metadata": {},
   "outputs": [
    {
     "data": {
      "text/plain": [
       "True"
      ]
     },
     "execution_count": 23,
     "metadata": {},
     "output_type": "execute_result"
    }
   ],
   "source": [
    "# Write a function that takes a string as input and checks if it is a palindrome (reads the same forwards and backwards). Return True if it is a palindrome, and False otherwise.\n",
    "\n",
    "def ispalindrome(string):\n",
    "    return string == string[::-1]\n",
    "\n",
    "ispalindrome(\"abba\")"
   ]
  },
  {
   "cell_type": "code",
   "execution_count": 25,
   "metadata": {},
   "outputs": [
    {
     "data": {
      "text/plain": [
       "['Shahzaib', 'Hassan', 'Ismail']"
      ]
     },
     "execution_count": 25,
     "metadata": {},
     "output_type": "execute_result"
    }
   ],
   "source": [
    "# You are given a list of strings. Write a function that takes this list as input and returns a new list containing only the strings that have more than 5 characters.\n",
    "def morethan5(listofstr):\n",
    "    return [x for x in listofstr if len(x)> 5]\n",
    "\n",
    "names = ['Shahzaib','Afnan','Hassan','Ismail']\n",
    "morethan5(names)"
   ]
  },
  {
   "cell_type": "code",
   "execution_count": 35,
   "metadata": {},
   "outputs": [
    {
     "name": "stdout",
     "output_type": "stream",
     "text": [
      "Complete\n"
     ]
    }
   ],
   "source": [
    "# You are given a dictionary representing a person's contact information. The keys in the dictionary are 'name', 'email', and 'phone'. Write a program that checks if the person has provided both their email and phone number. If both are present, print \"Contact information complete.\" Otherwise, print \"Incomplete contact information.\"\n",
    "def checking(dictionary):\n",
    "    ans = 0\n",
    "    if 'email' and 'phone' in dictionary:\n",
    "        print(\"Complete\")\n",
    "    else:\n",
    "        print(\"Not complete\")\n",
    "shah = {'name' : 'Shahzaib', 'email': 'shahxeebhassan@gmail.com','phone':'0980980' }\n",
    "checking(shah)"
   ]
  },
  {
   "cell_type": "code",
   "execution_count": 33,
   "metadata": {},
   "outputs": [
    {
     "data": {
      "text/plain": [
       "True"
      ]
     },
     "execution_count": 33,
     "metadata": {},
     "output_type": "execute_result"
    }
   ],
   "source": [
    "# You are given a list of dictionaries representing books. Each dictionary has the keys 'title', 'author', and 'year'. Write a program that checks if there are any books published before the year 2000. If there are, print \"Old books found.\" Otherwise, print \"No old books found.\"\n",
    "\n",
    "def oldBooks(listofdict):\n",
    "    ans = 0\n",
    "    for x in listofdict:\n",
    "        if x['year'] < 2000:\n",
    "            ans +=1\n",
    "        else:\n",
    "            ans = ans\n",
    "\n",
    "    return ans > 0\n",
    "\n",
    "\n",
    "listofdict = [{'title':'The Alchemist','author':'Paulo Coelho','year':1988},{'title':'The Kite Runner','author':'Khaled Hosseini','year':2003},{'title':'The Da Vinci Code','author':'Dan Brown','year':2003},{'title':'The Monk Who Sold His Ferrari','author':'Robin Sharma','year':1997},{'title':'The Godfather','author':'Mario Puzo','year':1969}]\n",
    "oldBooks(listofdict)"
   ]
  },
  {
   "cell_type": "code",
   "execution_count": 37,
   "metadata": {},
   "outputs": [
    {
     "data": {
      "text/plain": [
       "['Ali']"
      ]
     },
     "execution_count": 37,
     "metadata": {},
     "output_type": "execute_result"
    }
   ],
   "source": [
    "# this list as input and returns a new list containing only the names that start with the letter 'A'.\n",
    "def namesstartingwith(list1):\n",
    "    return [x for x in list1 if x[0]=='A']\n",
    "names = ['Shahzaib',\"Ali\"]\n",
    "namesstartingwith(names)\n"
   ]
  },
  {
   "cell_type": "code",
   "execution_count": null,
   "metadata": {},
   "outputs": [],
   "source": [
    "# You are given a dictionary representing a student's grades in different subjects. Each subject is a key in the dictionary, and the value grade. Write a program that calculates the average grade for each subject and prints the subject name along with its average grade.\n",
    "\n"
   ]
  }
 ],
 "metadata": {
  "kernelspec": {
   "display_name": "Python 3",
   "language": "python",
   "name": "python3"
  },
  "language_info": {
   "codemirror_mode": {
    "name": "ipython",
    "version": 3
   },
   "file_extension": ".py",
   "mimetype": "text/x-python",
   "name": "python",
   "nbconvert_exporter": "python",
   "pygments_lexer": "ipython3",
   "version": "3.9.16"
  },
  "orig_nbformat": 4
 },
 "nbformat": 4,
 "nbformat_minor": 2
}
