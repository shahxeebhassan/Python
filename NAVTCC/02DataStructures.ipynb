{
 "cells": [
  {
   "cell_type": "code",
   "execution_count": 13,
   "metadata": {},
   "outputs": [
    {
     "name": "stdout",
     "output_type": "stream",
     "text": [
      "['apple', 'banana', 'orange', 'grape', 'kiwi', 'strawberry', 'blueberry', ('raspberry', 'blackberry'), 'blackberry', 'mango']\n",
      " has length  10\n"
     ]
    }
   ],
   "source": [
    "fruits = []\n",
    "fruits.append('apple')\n",
    "fruits.append('banana')\n",
    "fruits.append('orange')\n",
    "fruits.append('grape')\n",
    "fruits.append('kiwi')\n",
    "fruits.append('strawberry')\n",
    "fruits.append('blueberry')\n",
    "fruits.append(('raspberry', 'blackberry'))\n",
    "fruits.append('blackberry')\n",
    "fruits.append('mango')\n",
    "\n",
    "print(fruits ,end='') \n",
    "print('\\n has length ', len(fruits))\n",
    "fruits.pop(1)\n",
    "fruits.remove(('raspberry' , 'blackberry'))"
   ]
  },
  {
   "cell_type": "code",
   "execution_count": 22,
   "metadata": {},
   "outputs": [
    {
     "ename": "IndexError",
     "evalue": "pop index out of range",
     "output_type": "error",
     "traceback": [
      "\u001b[0;31m---------------------------------------------------------------------------\u001b[0m",
      "\u001b[0;31mIndexError\u001b[0m                                Traceback (most recent call last)",
      "Cell \u001b[0;32mIn[22], line 20\u001b[0m\n\u001b[1;32m     18\u001b[0m \u001b[39m# task_list = add_task(task_list, 'Clean House')\u001b[39;00m\n\u001b[1;32m     19\u001b[0m com_task \u001b[39m=\u001b[39m \u001b[39mint\u001b[39m(\u001b[39minput\u001b[39m(\u001b[39m\"\u001b[39m\u001b[39mEnter task number to remove :\u001b[39m\u001b[39m\"\u001b[39m))\n\u001b[0;32m---> 20\u001b[0m remove_completed(task_list,com_task)\n\u001b[1;32m     21\u001b[0m display_tasks(task_list)\n",
      "Cell \u001b[0;32mIn[22], line 10\u001b[0m, in \u001b[0;36mremove_completed\u001b[0;34m(task_list, number)\u001b[0m\n\u001b[1;32m      9\u001b[0m \u001b[39mdef\u001b[39;00m \u001b[39mremove_completed\u001b[39m(task_list,number):\n\u001b[0;32m---> 10\u001b[0m     task_list\u001b[39m.\u001b[39;49mpop(number\u001b[39m-\u001b[39;49m\u001b[39m1\u001b[39;49m)\n\u001b[1;32m     11\u001b[0m     \u001b[39mprint\u001b[39m(\u001b[39m\"\u001b[39m\u001b[39m\"\u001b[39m)\n",
      "\u001b[0;31mIndexError\u001b[0m: pop index out of range"
     ]
    }
   ],
   "source": [
    "def add_task(task_list, task):\n",
    "    task_list.append(task)\n",
    "    return task_list\n",
    "\n",
    "def display_tasks(task_list):\n",
    "    print(\"You have {} tasks to do:\".format(len(task_list)))\n",
    "    for  task in task_list:\n",
    "        print(task)\n",
    "def remove_completed(task_list,number):\n",
    "    task_list.pop(number-1)\n",
    "    print(\"\")\n",
    "    \n",
    "\n",
    "\n",
    "task_list = []\n",
    "task = input(\"Enter task to add :\")\n",
    "task_list = add_task(task_list, task)\n",
    "# task_list = add_task(task_list, 'Clean House')\n",
    "com_task = int(input(\"Enter task number to remove :\"))\n",
    "remove_completed(task_list,com_task)\n",
    "display_tasks(task_list)\n"
   ]
  },
  {
   "cell_type": "code",
   "execution_count": 5,
   "metadata": {},
   "outputs": [
    {
     "name": "stdout",
     "output_type": "stream",
     "text": [
      "1. Add a task\n",
      "2. Remove a task\n",
      "3. Show all tasks\n",
      "4. Quit\n",
      "Task 'Going to uni' added successfully!\n",
      "1. Add a task\n",
      "2. Remove a task\n",
      "3. Show all tasks\n",
      "4. Quit\n",
      "You have 1 tasks to do:\n",
      "Going to uni\n",
      "1. Add a task\n",
      "2. Remove a task\n",
      "3. Show all tasks\n",
      "4. Quit\n"
     ]
    },
    {
     "ename": "ValueError",
     "evalue": "invalid literal for int() with base 10: ''",
     "output_type": "error",
     "traceback": [
      "\u001b[0;31m---------------------------------------------------------------------------\u001b[0m",
      "\u001b[0;31mValueError\u001b[0m                                Traceback (most recent call last)",
      "Cell \u001b[0;32mIn[5], line 45\u001b[0m\n\u001b[1;32m     42\u001b[0m         num \u001b[39m=\u001b[39m \u001b[39mint\u001b[39m(\u001b[39minput\u001b[39m(\u001b[39m\"\u001b[39m\u001b[39mEnter your choice: \u001b[39m\u001b[39m\"\u001b[39m))\n\u001b[1;32m     44\u001b[0m \u001b[39mif\u001b[39;00m \u001b[39m__name__\u001b[39m \u001b[39m==\u001b[39m \u001b[39m\"\u001b[39m\u001b[39m__main__\u001b[39m\u001b[39m\"\u001b[39m:\n\u001b[0;32m---> 45\u001b[0m     main()\n",
      "Cell \u001b[0;32mIn[5], line 42\u001b[0m, in \u001b[0;36mmain\u001b[0;34m()\u001b[0m\n\u001b[1;32m     40\u001b[0m \u001b[39mprint\u001b[39m(\u001b[39m\"\u001b[39m\u001b[39m3. Show all tasks\u001b[39m\u001b[39m\"\u001b[39m)\n\u001b[1;32m     41\u001b[0m \u001b[39mprint\u001b[39m(\u001b[39m\"\u001b[39m\u001b[39m4. Quit\u001b[39m\u001b[39m\"\u001b[39m)\n\u001b[0;32m---> 42\u001b[0m num \u001b[39m=\u001b[39m \u001b[39mint\u001b[39;49m(\u001b[39minput\u001b[39;49m(\u001b[39m\"\u001b[39;49m\u001b[39mEnter your choice: \u001b[39;49m\u001b[39m\"\u001b[39;49m))\n",
      "\u001b[0;31mValueError\u001b[0m: invalid literal for int() with base 10: ''"
     ]
    }
   ],
   "source": [
    "def add_task(task_list):\n",
    "    task = input(\"Enter task to add: \")\n",
    "    task_list.append(task)\n",
    "    print(\"Task '{}' added successfully!\".format(task))\n",
    "    return task_list\n",
    "\n",
    "def remove_task(task_list):\n",
    "    task_number = int(input(\"Enter task number to remove: \"))\n",
    "    task_list.pop(task_number - 1)\n",
    "    print(\"Task {} removed successfully!\".format(task_list[task_number - 1]))\n",
    "    return task_list\n",
    "\n",
    "def display_tasks(task_list):\n",
    "    print(\"You have {} tasks to do:\".format(len(task_list)))\n",
    "    for task in task_list:\n",
    "        print(task)\n",
    "\n",
    "def main():\n",
    "    task_list = []\n",
    "    print(\"1. Add a task\")\n",
    "    print(\"2. Remove a task\")\n",
    "    print(\"3. Show all tasks\")\n",
    "    print(\"4. Quit\")\n",
    "    num = int(input(\"Enter your choice: \"))\n",
    "\n",
    "    while num != 4:\n",
    "        if num == 1:\n",
    "            task_list = add_task(task_list)\n",
    "        elif num == 2:\n",
    "            task_list = remove_task(task_list)\n",
    "        elif num == 3:\n",
    "            display_tasks(task_list)\n",
    "        elif num == 4:\n",
    "            print(\"Goodbye!\")\n",
    "        else:\n",
    "            print(\"Invalid choice\")\n",
    "\n",
    "        print(\"1. Add a task\")\n",
    "        print(\"2. Remove a task\")\n",
    "        print(\"3. Show all tasks\")\n",
    "        print(\"4. Quit\")\n",
    "        num = int(input(\"Enter your choice: \"))\n",
    "\n",
    "if __name__ == \"__main__\":\n",
    "    main()\n"
   ]
  },
  {
   "attachments": {},
   "cell_type": "markdown",
   "metadata": {},
   "source": [
    "# Dictionaries"
   ]
  },
  {
   "cell_type": "code",
   "execution_count": 2,
   "metadata": {},
   "outputs": [
    {
     "name": "stdout",
     "output_type": "stream",
     "text": [
      "{'name': 'John', 'age': 26}\n"
     ]
    }
   ],
   "source": [
    "my_dict = {'name': 'Jack', 'age': 26}\n",
    "my_dict['name'] = 'John'\n",
    "print(my_dict)"
   ]
  },
  {
   "attachments": {},
   "cell_type": "markdown",
   "metadata": {},
   "source": [
    "Contact management system \n",
    "- Add contact (name, phone, email) in dictionary\n",
    "- View all contacts\n",
    "- Search for a contact\n",
    "- Delete a contact\n",
    "- Update a contact\n",
    "- Show Menu\n",
    "- Exit"
   ]
  },
  {
   "attachments": {},
   "cell_type": "markdown",
   "metadata": {},
   "source": [
    "Shopping Cart \n"
   ]
  }
 ],
 "metadata": {
  "kernelspec": {
   "display_name": "Python 3",
   "language": "python",
   "name": "python3"
  },
  "language_info": {
   "codemirror_mode": {
    "name": "ipython",
    "version": 3
   },
   "file_extension": ".py",
   "mimetype": "text/x-python",
   "name": "python",
   "nbconvert_exporter": "python",
   "pygments_lexer": "ipython3",
   "version": "3.8.10"
  },
  "orig_nbformat": 4
 },
 "nbformat": 4,
 "nbformat_minor": 2
}
