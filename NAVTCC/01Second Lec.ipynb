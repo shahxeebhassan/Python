{
 "cells": [
  {
   "attachments": {},
   "cell_type": "markdown",
   "metadata": {},
   "source": [
    "# Loops and Strings in Python"
   ]
  },
  {
   "cell_type": "code",
   "execution_count": 1,
   "metadata": {},
   "outputs": [
    {
     "name": "stdout",
     "output_type": "stream",
     "text": [
      "The vealue of x is:  30\n",
      "The vealue of x is:  29\n",
      "The vealue of x is:  28\n",
      "The vealue of x is:  27\n",
      "The vealue of x is:  26\n"
     ]
    }
   ],
   "source": [
    "x = 30\n",
    "while x > 25:\n",
    "    print(\"The vealue of x is: \", x)\n",
    "    x -= 1"
   ]
  },
  {
   "cell_type": "code",
   "execution_count": 5,
   "metadata": {},
   "outputs": [
    {
     "name": "stdout",
     "output_type": "stream",
     "text": [
      "The number of seats available are:  20\n",
      "The number of seats available are:  19\n",
      "The number of seats available are:  18\n",
      "The number of seats available are:  17\n",
      "The number of seats available are:  16\n",
      "The number of seats available are:  15\n",
      "The number of seats available are:  14\n",
      "The number of seats available are:  13\n",
      "The seats are full\n"
     ]
    }
   ],
   "source": [
    "Avaulable_seats = 20\n",
    "while Avaulable_seats > 12:\n",
    "    print(\"The number of seats available are: \", str(Avaulable_seats))\n",
    "    Avaulable_seats -= 1\n",
    "    if Avaulable_seats == 12:\n",
    "        print(\"The seats are full\")"
   ]
  },
  {
   "cell_type": "code",
   "execution_count": 13,
   "metadata": {},
   "outputs": [
    {
     "name": "stdout",
     "output_type": "stream",
     "text": [
      "PAKISTAN\n"
     ]
    }
   ],
   "source": [
    "country = \"pakistan\"\n",
    "\n",
    "country = country.swapcase()\n",
    "print(country)"
   ]
  },
  {
   "cell_type": "code",
   "execution_count": 14,
   "metadata": {},
   "outputs": [
    {
     "data": {
      "text/plain": [
       "'pakistan'"
      ]
     },
     "execution_count": 14,
     "metadata": {},
     "output_type": "execute_result"
    }
   ],
   "source": [
    "country = country.swapcase()\n",
    "country"
   ]
  },
  {
   "cell_type": "code",
   "execution_count": 19,
   "metadata": {},
   "outputs": [
    {
     "data": {
      "text/plain": [
       "'pakisTAN'"
      ]
     },
     "execution_count": 19,
     "metadata": {},
     "output_type": "execute_result"
    }
   ],
   "source": [
    "country.replace(\"tan\", \"TAN\")"
   ]
  },
  {
   "cell_type": "code",
   "execution_count": 25,
   "metadata": {},
   "outputs": [
    {
     "name": "stdout",
     "output_type": "stream",
     "text": [
      "I am thinking of a number between 1 and 25\n",
      "Take a guess\n",
      "Your guess is too low\n",
      "Take a guess\n",
      "Your guess is too low\n",
      "Take a guess\n",
      "Your guess is too low\n",
      "Take a guess\n",
      "Your guess is too low\n",
      "Take a guess\n",
      "Your guess is too low\n"
     ]
    }
   ],
   "source": [
    "import random\n",
    "number = random.randint(1,25)\n",
    "print(\"I am thinking of a number between 1 and 25\")\n",
    "\n",
    "for guesses in range(1,6):\n",
    "    print(\"Take a guess\")\n",
    "    guess = int(input())\n",
    "    if guess < number:\n",
    "        print(\"Your guess is too low\")\n",
    "    elif guess > number:\n",
    "        print(\"Your guess is too high\")\n",
    "    elif guess == number:\n",
    "        print(\"You guessed the number in  \" + str(guesses) + \" guesses\")\n",
    "        break\n",
    "    else:\n",
    "        print(\"Nope. The number I was thinking of was \" + str(number))\n",
    "        \n",
    "\n",
    "\n"
   ]
  },
  {
   "cell_type": "code",
   "execution_count": 27,
   "metadata": {},
   "outputs": [
    {
     "data": {
      "text/plain": [
       "5"
      ]
     },
     "execution_count": 27,
     "metadata": {},
     "output_type": "execute_result"
    }
   ],
   "source": [
    "str = \"We love our country\"\n",
    "str.find(\"v\")"
   ]
  },
  {
   "cell_type": "markdown",
   "metadata": {},
   "source": [
    "## File Handling"
   ]
  },
  {
   "cell_type": "code",
   "execution_count": 1,
   "metadata": {},
   "outputs": [
    {
     "name": "stdout",
     "output_type": "stream",
     "text": [
      "My name is Shahzaib Hassan and i'm in my early twenties.\n",
      "\n",
      "I was born and raised in Ahmeedpur East.\n",
      "\n",
      "I have been living in Bahawalpur for past 3 years.\n",
      "\n",
      "I am pursuing the degree of BS Artificial Intelligence from Islamia University Bahawalpur.\n",
      "\n",
      "I am currently in my 3rd semester.\n"
     ]
    }
   ],
   "source": [
    "with open(\"introduction.txt\") as intro:\n",
    "    for line in intro:\n",
    "        print(line)"
   ]
  }
 ],
 "metadata": {
  "kernelspec": {
   "display_name": "Python 3",
   "language": "python",
   "name": "python3"
  },
  "language_info": {
   "codemirror_mode": {
    "name": "ipython",
    "version": 3
   },
   "file_extension": ".py",
   "mimetype": "text/x-python",
   "name": "python",
   "nbconvert_exporter": "python",
   "pygments_lexer": "ipython3",
   "version": "3.11.3"
  },
  "orig_nbformat": 4
 },
 "nbformat": 4,
 "nbformat_minor": 2
}
