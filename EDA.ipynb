{
 "cells": [
  {
   "attachments": {},
   "cell_type": "markdown",
   "metadata": {},
   "source": [
    "# EDA (Exploratory data anaylsis)\n",
    "This notebook is used to explore the data and get a better understanding of the data\n",
    "\n"
   ]
  },
  {
   "attachments": {},
   "cell_type": "markdown",
   "metadata": {},
   "source": [
    "### Super ways to conduct EDA in one go"
   ]
  },
  {
   "cell_type": "code",
   "execution_count": 1,
   "metadata": {},
   "outputs": [],
   "source": [
    "# importing libraries\n",
    "import pandas as pd\n",
    "import numpy as np\n",
    "import matplotlib.pyplot as plt\n",
    "import seaborn as sns\n",
    "# installing ydata_profiling\n",
    "\n",
    "# importing ydata_profiling\n",
    "from ydata_profiling import ProfileReport\n",
    "\n"
   ]
  },
  {
   "cell_type": "code",
   "execution_count": 2,
   "metadata": {},
   "outputs": [],
   "source": [
    "# importing dataset\n",
    "df = pd.read_csv('nhanes_2015_2016.csv')\n"
   ]
  },
  {
   "cell_type": "code",
   "execution_count": 5,
   "metadata": {},
   "outputs": [
    {
     "name": "stderr",
     "output_type": "stream",
     "text": [
      "Summarize dataset:   0%|          | 0/5 [00:00<?, ?it/s]"
     ]
    },
    {
     "name": "stderr",
     "output_type": "stream",
     "text": [
      "Summarize dataset: 100%|██████████| 438/438 [03:07<00:00,  2.33it/s, Completed]                 \n",
      "Generate report structure: 100%|██████████| 1/1 [00:22<00:00, 22.12s/it]\n",
      "Render HTML: 100%|██████████| 1/1 [00:14<00:00, 14.19s/it]\n",
      "Export report to file: 100%|██████████| 1/1 [00:00<00:00,  1.11it/s]\n"
     ]
    }
   ],
   "source": [
    "# profile report generation\n",
    "report = ProfileReport(df)\n",
    "\n",
    "# saving report\n",
    "report.to_file('report.html')"
   ]
  },
  {
   "cell_type": "markdown",
   "metadata": {},
   "source": [
    "## Skimpy"
   ]
  },
  {
   "cell_type": "code",
   "execution_count": 8,
   "metadata": {},
   "outputs": [
    {
     "data": {
      "text/html": [
       "<pre style=\"white-space:pre;overflow-x:auto;line-height:normal;font-family:Menlo,'DejaVu Sans Mono',consolas,'Courier New',monospace\">╭──────────────────────────────────────────────── skimpy summary ─────────────────────────────────────────────────╮\n",
       "│ <span style=\"font-style: italic\">         Data Summary         </span> <span style=\"font-style: italic\">      Data Types       </span>                                                          │\n",
       "│ ┏━━━━━━━━━━━━━━━━━━━┳━━━━━━━━┓ ┏━━━━━━━━━━━━━┳━━━━━━━┓                                                          │\n",
       "│ ┃<span style=\"color: #008080; text-decoration-color: #008080; font-weight: bold\"> dataframe         </span>┃<span style=\"color: #008080; text-decoration-color: #008080; font-weight: bold\"> Values </span>┃ ┃<span style=\"color: #008080; text-decoration-color: #008080; font-weight: bold\"> Column Type </span>┃<span style=\"color: #008080; text-decoration-color: #008080; font-weight: bold\"> Count </span>┃                                                          │\n",
       "│ ┡━━━━━━━━━━━━━━━━━━━╇━━━━━━━━┩ ┡━━━━━━━━━━━━━╇━━━━━━━┩                                                          │\n",
       "│ │ Number of rows    │ 5735   │ │ float64     │ 20    │                                                          │\n",
       "│ │ Number of columns │ 28     │ │ int64       │ 8     │                                                          │\n",
       "│ └───────────────────┴────────┘ └─────────────┴───────┘                                                          │\n",
       "│ <span style=\"font-style: italic\">                                                    number                                                    </span>  │\n",
       "│ ┏━━━━━━━━━━━━━━━━━┳━━━━━━━━┳━━━━━━━━━┳━━━━━━━━━┳━━━━━━━━━┳━━━━━━━━━┳━━━━━━━━━┳━━━━━━━━━┳━━━━━━━━━━┳━━━━━━━━━━┓  │\n",
       "│ ┃<span style=\"font-weight: bold\"> column_name     </span>┃<span style=\"font-weight: bold\"> NA     </span>┃<span style=\"font-weight: bold\"> NA %    </span>┃<span style=\"font-weight: bold\"> mean    </span>┃<span style=\"font-weight: bold\"> sd      </span>┃<span style=\"font-weight: bold\"> p0      </span>┃<span style=\"font-weight: bold\"> p25     </span>┃<span style=\"font-weight: bold\"> p75     </span>┃<span style=\"font-weight: bold\"> p100     </span>┃<span style=\"font-weight: bold\"> hist     </span>┃  │\n",
       "│ ┡━━━━━━━━━━━━━━━━━╇━━━━━━━━╇━━━━━━━━━╇━━━━━━━━━╇━━━━━━━━━╇━━━━━━━━━╇━━━━━━━━━╇━━━━━━━━━╇━━━━━━━━━━╇━━━━━━━━━━┩  │\n",
       "│ │ <span style=\"color: #af87ff; text-decoration-color: #af87ff\">SEQN           </span> │ <span style=\"color: #008080; text-decoration-color: #008080\">     0</span> │ <span style=\"color: #008080; text-decoration-color: #008080\">      0</span> │ <span style=\"color: #008080; text-decoration-color: #008080\">  89000</span> │ <span style=\"color: #008080; text-decoration-color: #008080\">   2900</span> │ <span style=\"color: #008080; text-decoration-color: #008080\">  84000</span> │ <span style=\"color: #008080; text-decoration-color: #008080\">  86000</span> │ <span style=\"color: #008080; text-decoration-color: #008080\">  91000</span> │ <span style=\"color: #008080; text-decoration-color: #008080\">   94000</span> │ <span style=\"color: #008000; text-decoration-color: #008000\"> ██████ </span> │  │\n",
       "│ │ <span style=\"color: #af87ff; text-decoration-color: #af87ff\">ALQ101         </span> │ <span style=\"color: #008080; text-decoration-color: #008080\">   530</span> │ <span style=\"color: #008080; text-decoration-color: #008080\">    9.2</span> │ <span style=\"color: #008080; text-decoration-color: #008080\">    1.3</span> │ <span style=\"color: #008080; text-decoration-color: #008080\">   0.51</span> │ <span style=\"color: #008080; text-decoration-color: #008080\">      1</span> │ <span style=\"color: #008080; text-decoration-color: #008080\">      1</span> │ <span style=\"color: #008080; text-decoration-color: #008080\">      2</span> │ <span style=\"color: #008080; text-decoration-color: #008080\">       9</span> │ <span style=\"color: #008000; text-decoration-color: #008000\">   █    </span> │  │\n",
       "│ │ <span style=\"color: #af87ff; text-decoration-color: #af87ff\">ALQ110         </span> │ <span style=\"color: #008080; text-decoration-color: #008080\">  4000</span> │ <span style=\"color: #008080; text-decoration-color: #008080\">     70</span> │ <span style=\"color: #008080; text-decoration-color: #008080\">    1.6</span> │ <span style=\"color: #008080; text-decoration-color: #008080\">   0.62</span> │ <span style=\"color: #008080; text-decoration-color: #008080\">      1</span> │ <span style=\"color: #008080; text-decoration-color: #008080\">      1</span> │ <span style=\"color: #008080; text-decoration-color: #008080\">      2</span> │ <span style=\"color: #008080; text-decoration-color: #008080\">       9</span> │ <span style=\"color: #008000; text-decoration-color: #008000\">   █    </span> │  │\n",
       "│ │ <span style=\"color: #af87ff; text-decoration-color: #af87ff\">ALQ130         </span> │ <span style=\"color: #008080; text-decoration-color: #008080\">  2400</span> │ <span style=\"color: #008080; text-decoration-color: #008080\">     41</span> │ <span style=\"color: #008080; text-decoration-color: #008080\">    3.9</span> │ <span style=\"color: #008080; text-decoration-color: #008080\">     34</span> │ <span style=\"color: #008080; text-decoration-color: #008080\">      1</span> │ <span style=\"color: #008080; text-decoration-color: #008080\">      1</span> │ <span style=\"color: #008080; text-decoration-color: #008080\">      3</span> │ <span style=\"color: #008080; text-decoration-color: #008080\">    1000</span> │ <span style=\"color: #008000; text-decoration-color: #008000\">   █    </span> │  │\n",
       "│ │ <span style=\"color: #af87ff; text-decoration-color: #af87ff\">SMQ020         </span> │ <span style=\"color: #008080; text-decoration-color: #008080\">     0</span> │ <span style=\"color: #008080; text-decoration-color: #008080\">      0</span> │ <span style=\"color: #008080; text-decoration-color: #008080\">    1.6</span> │ <span style=\"color: #008080; text-decoration-color: #008080\">   0.57</span> │ <span style=\"color: #008080; text-decoration-color: #008080\">      1</span> │ <span style=\"color: #008080; text-decoration-color: #008080\">      1</span> │ <span style=\"color: #008080; text-decoration-color: #008080\">      2</span> │ <span style=\"color: #008080; text-decoration-color: #008080\">       9</span> │ <span style=\"color: #008000; text-decoration-color: #008000\">   █    </span> │  │\n",
       "│ │ <span style=\"color: #af87ff; text-decoration-color: #af87ff\">RIAGENDR       </span> │ <span style=\"color: #008080; text-decoration-color: #008080\">     0</span> │ <span style=\"color: #008080; text-decoration-color: #008080\">      0</span> │ <span style=\"color: #008080; text-decoration-color: #008080\">    1.5</span> │ <span style=\"color: #008080; text-decoration-color: #008080\">    0.5</span> │ <span style=\"color: #008080; text-decoration-color: #008080\">      1</span> │ <span style=\"color: #008080; text-decoration-color: #008080\">      1</span> │ <span style=\"color: #008080; text-decoration-color: #008080\">      2</span> │ <span style=\"color: #008080; text-decoration-color: #008080\">       2</span> │ <span style=\"color: #008000; text-decoration-color: #008000\"> ▇    █ </span> │  │\n",
       "│ │ <span style=\"color: #af87ff; text-decoration-color: #af87ff\">RIDAGEYR       </span> │ <span style=\"color: #008080; text-decoration-color: #008080\">     0</span> │ <span style=\"color: #008080; text-decoration-color: #008080\">      0</span> │ <span style=\"color: #008080; text-decoration-color: #008080\">     48</span> │ <span style=\"color: #008080; text-decoration-color: #008080\">     18</span> │ <span style=\"color: #008080; text-decoration-color: #008080\">     18</span> │ <span style=\"color: #008080; text-decoration-color: #008080\">     32</span> │ <span style=\"color: #008080; text-decoration-color: #008080\">     63</span> │ <span style=\"color: #008080; text-decoration-color: #008080\">      80</span> │ <span style=\"color: #008000; text-decoration-color: #008000\"> █▇▇▇▇▇ </span> │  │\n",
       "│ │ <span style=\"color: #af87ff; text-decoration-color: #af87ff\">RIDRETH1       </span> │ <span style=\"color: #008080; text-decoration-color: #008080\">     0</span> │ <span style=\"color: #008080; text-decoration-color: #008080\">      0</span> │ <span style=\"color: #008080; text-decoration-color: #008080\">      3</span> │ <span style=\"color: #008080; text-decoration-color: #008080\">    1.3</span> │ <span style=\"color: #008080; text-decoration-color: #008080\">      1</span> │ <span style=\"color: #008080; text-decoration-color: #008080\">      2</span> │ <span style=\"color: #008080; text-decoration-color: #008080\">      4</span> │ <span style=\"color: #008080; text-decoration-color: #008080\">       5</span> │ <span style=\"color: #008000; text-decoration-color: #008000\"> ▄▃ █▅▄ </span> │  │\n",
       "│ │ <span style=\"color: #af87ff; text-decoration-color: #af87ff\">DMDCITZN       </span> │ <span style=\"color: #008080; text-decoration-color: #008080\">     1</span> │ <span style=\"color: #008080; text-decoration-color: #008080\">  0.017</span> │ <span style=\"color: #008080; text-decoration-color: #008080\">    1.2</span> │ <span style=\"color: #008080; text-decoration-color: #008080\">   0.49</span> │ <span style=\"color: #008080; text-decoration-color: #008080\">      1</span> │ <span style=\"color: #008080; text-decoration-color: #008080\">      1</span> │ <span style=\"color: #008080; text-decoration-color: #008080\">      1</span> │ <span style=\"color: #008080; text-decoration-color: #008080\">       9</span> │ <span style=\"color: #008000; text-decoration-color: #008000\">   █    </span> │  │\n",
       "│ │ <span style=\"color: #af87ff; text-decoration-color: #af87ff\">DMDEDUC2       </span> │ <span style=\"color: #008080; text-decoration-color: #008080\">   260</span> │ <span style=\"color: #008080; text-decoration-color: #008080\">    4.6</span> │ <span style=\"color: #008080; text-decoration-color: #008080\">    3.4</span> │ <span style=\"color: #008080; text-decoration-color: #008080\">    1.3</span> │ <span style=\"color: #008080; text-decoration-color: #008080\">      1</span> │ <span style=\"color: #008080; text-decoration-color: #008080\">      3</span> │ <span style=\"color: #008080; text-decoration-color: #008080\">    4.8</span> │ <span style=\"color: #008080; text-decoration-color: #008080\">       9</span> │ <span style=\"color: #008000; text-decoration-color: #008000\">  ▆▆█▇  </span> │  │\n",
       "│ │ <span style=\"color: #af87ff; text-decoration-color: #af87ff\">DMDMARTL       </span> │ <span style=\"color: #008080; text-decoration-color: #008080\">   260</span> │ <span style=\"color: #008080; text-decoration-color: #008080\">    4.6</span> │ <span style=\"color: #008080; text-decoration-color: #008080\">    2.6</span> │ <span style=\"color: #008080; text-decoration-color: #008080\">    2.4</span> │ <span style=\"color: #008080; text-decoration-color: #008080\">      1</span> │ <span style=\"color: #008080; text-decoration-color: #008080\">      1</span> │ <span style=\"color: #008080; text-decoration-color: #008080\">      5</span> │ <span style=\"color: #008080; text-decoration-color: #008080\">      77</span> │ <span style=\"color: #008000; text-decoration-color: #008000\">   █    </span> │  │\n",
       "│ │ <span style=\"color: #af87ff; text-decoration-color: #af87ff\">DMDHHSIZ       </span> │ <span style=\"color: #008080; text-decoration-color: #008080\">     0</span> │ <span style=\"color: #008080; text-decoration-color: #008080\">      0</span> │ <span style=\"color: #008080; text-decoration-color: #008080\">    3.3</span> │ <span style=\"color: #008080; text-decoration-color: #008080\">    1.7</span> │ <span style=\"color: #008080; text-decoration-color: #008080\">      1</span> │ <span style=\"color: #008080; text-decoration-color: #008080\">      2</span> │ <span style=\"color: #008080; text-decoration-color: #008080\">      5</span> │ <span style=\"color: #008080; text-decoration-color: #008080\">       7</span> │ <span style=\"color: #008000; text-decoration-color: #008000\"> ▄█▅▅▄▄ </span> │  │\n",
       "│ │ <span style=\"color: #af87ff; text-decoration-color: #af87ff\">WTINT2YR       </span> │ <span style=\"color: #008080; text-decoration-color: #008080\">     0</span> │ <span style=\"color: #008080; text-decoration-color: #008080\">      0</span> │ <span style=\"color: #008080; text-decoration-color: #008080\">  40000</span> │ <span style=\"color: #008080; text-decoration-color: #008080\">  39000</span> │ <span style=\"color: #008080; text-decoration-color: #008080\">   5300</span> │ <span style=\"color: #008080; text-decoration-color: #008080\">  17000</span> │ <span style=\"color: #008080; text-decoration-color: #008080\">  43000</span> │ <span style=\"color: #008080; text-decoration-color: #008080\">  230000</span> │ <span style=\"color: #008000; text-decoration-color: #008000\">  █▁▁▁  </span> │  │\n",
       "│ │ <span style=\"color: #af87ff; text-decoration-color: #af87ff\">SDMVPSU        </span> │ <span style=\"color: #008080; text-decoration-color: #008080\">     0</span> │ <span style=\"color: #008080; text-decoration-color: #008080\">      0</span> │ <span style=\"color: #008080; text-decoration-color: #008080\">    1.5</span> │ <span style=\"color: #008080; text-decoration-color: #008080\">    0.5</span> │ <span style=\"color: #008080; text-decoration-color: #008080\">      1</span> │ <span style=\"color: #008080; text-decoration-color: #008080\">      1</span> │ <span style=\"color: #008080; text-decoration-color: #008080\">      2</span> │ <span style=\"color: #008080; text-decoration-color: #008080\">       2</span> │ <span style=\"color: #008000; text-decoration-color: #008000\"> █    █ </span> │  │\n",
       "│ │ <span style=\"color: #af87ff; text-decoration-color: #af87ff\">SDMVSTRA       </span> │ <span style=\"color: #008080; text-decoration-color: #008080\">     0</span> │ <span style=\"color: #008080; text-decoration-color: #008080\">      0</span> │ <span style=\"color: #008080; text-decoration-color: #008080\">    130</span> │ <span style=\"color: #008080; text-decoration-color: #008080\">    4.2</span> │ <span style=\"color: #008080; text-decoration-color: #008080\">    120</span> │ <span style=\"color: #008080; text-decoration-color: #008080\">    120</span> │ <span style=\"color: #008080; text-decoration-color: #008080\">    130</span> │ <span style=\"color: #008080; text-decoration-color: #008080\">     130</span> │ <span style=\"color: #008000; text-decoration-color: #008000\"> ▇▅▅▇▅█ </span> │  │\n",
       "│ │ <span style=\"color: #af87ff; text-decoration-color: #af87ff\">INDFMPIR       </span> │ <span style=\"color: #008080; text-decoration-color: #008080\">   600</span> │ <span style=\"color: #008080; text-decoration-color: #008080\">     10</span> │ <span style=\"color: #008080; text-decoration-color: #008080\">    2.4</span> │ <span style=\"color: #008080; text-decoration-color: #008080\">    1.6</span> │ <span style=\"color: #008080; text-decoration-color: #008080\">      0</span> │ <span style=\"color: #008080; text-decoration-color: #008080\">    1.1</span> │ <span style=\"color: #008080; text-decoration-color: #008080\">    3.7</span> │ <span style=\"color: #008080; text-decoration-color: #008080\">       5</span> │ <span style=\"color: #008000; text-decoration-color: #008000\"> ▅█▅▄▂▇ </span> │  │\n",
       "│ │ <span style=\"color: #af87ff; text-decoration-color: #af87ff\">BPXSY1         </span> │ <span style=\"color: #008080; text-decoration-color: #008080\">   330</span> │ <span style=\"color: #008080; text-decoration-color: #008080\">    5.8</span> │ <span style=\"color: #008080; text-decoration-color: #008080\">    130</span> │ <span style=\"color: #008080; text-decoration-color: #008080\">     18</span> │ <span style=\"color: #008080; text-decoration-color: #008080\">     82</span> │ <span style=\"color: #008080; text-decoration-color: #008080\">    110</span> │ <span style=\"color: #008080; text-decoration-color: #008080\">    130</span> │ <span style=\"color: #008080; text-decoration-color: #008080\">     240</span> │ <span style=\"color: #008000; text-decoration-color: #008000\">  ▂█▃▁  </span> │  │\n",
       "│ │ <span style=\"color: #af87ff; text-decoration-color: #af87ff\">BPXDI1         </span> │ <span style=\"color: #008080; text-decoration-color: #008080\">   330</span> │ <span style=\"color: #008080; text-decoration-color: #008080\">    5.8</span> │ <span style=\"color: #008080; text-decoration-color: #008080\">     70</span> │ <span style=\"color: #008080; text-decoration-color: #008080\">     13</span> │ <span style=\"color: #008080; text-decoration-color: #008080\">      0</span> │ <span style=\"color: #008080; text-decoration-color: #008080\">     62</span> │ <span style=\"color: #008080; text-decoration-color: #008080\">     78</span> │ <span style=\"color: #008080; text-decoration-color: #008080\">     120</span> │ <span style=\"color: #008000; text-decoration-color: #008000\">   ▂█▃  </span> │  │\n",
       "│ │ <span style=\"color: #af87ff; text-decoration-color: #af87ff\">BPXSY2         </span> │ <span style=\"color: #008080; text-decoration-color: #008080\">   200</span> │ <span style=\"color: #008080; text-decoration-color: #008080\">    3.5</span> │ <span style=\"color: #008080; text-decoration-color: #008080\">    120</span> │ <span style=\"color: #008080; text-decoration-color: #008080\">     19</span> │ <span style=\"color: #008080; text-decoration-color: #008080\">     84</span> │ <span style=\"color: #008080; text-decoration-color: #008080\">    110</span> │ <span style=\"color: #008080; text-decoration-color: #008080\">    130</span> │ <span style=\"color: #008080; text-decoration-color: #008080\">     240</span> │ <span style=\"color: #008000; text-decoration-color: #008000\">  ▃█▃▁  </span> │  │\n",
       "│ │ <span style=\"color: #af87ff; text-decoration-color: #af87ff\">BPXDI2         </span> │ <span style=\"color: #008080; text-decoration-color: #008080\">   200</span> │ <span style=\"color: #008080; text-decoration-color: #008080\">    3.5</span> │ <span style=\"color: #008080; text-decoration-color: #008080\">     69</span> │ <span style=\"color: #008080; text-decoration-color: #008080\">     13</span> │ <span style=\"color: #008080; text-decoration-color: #008080\">      0</span> │ <span style=\"color: #008080; text-decoration-color: #008080\">     62</span> │ <span style=\"color: #008080; text-decoration-color: #008080\">     78</span> │ <span style=\"color: #008080; text-decoration-color: #008080\">     140</span> │ <span style=\"color: #008000; text-decoration-color: #008000\">    █▇  </span> │  │\n",
       "│ │ <span style=\"color: #af87ff; text-decoration-color: #af87ff\">BMXWT          </span> │ <span style=\"color: #008080; text-decoration-color: #008080\">    69</span> │ <span style=\"color: #008080; text-decoration-color: #008080\">    1.2</span> │ <span style=\"color: #008080; text-decoration-color: #008080\">     81</span> │ <span style=\"color: #008080; text-decoration-color: #008080\">     22</span> │ <span style=\"color: #008080; text-decoration-color: #008080\">     32</span> │ <span style=\"color: #008080; text-decoration-color: #008080\">     66</span> │ <span style=\"color: #008080; text-decoration-color: #008080\">     93</span> │ <span style=\"color: #008080; text-decoration-color: #008080\">     200</span> │ <span style=\"color: #008000; text-decoration-color: #008000\">  ▂█▄▁  </span> │  │\n",
       "│ │ <span style=\"color: #af87ff; text-decoration-color: #af87ff\">BMXHT          </span> │ <span style=\"color: #008080; text-decoration-color: #008080\">    62</span> │ <span style=\"color: #008080; text-decoration-color: #008080\">    1.1</span> │ <span style=\"color: #008080; text-decoration-color: #008080\">    170</span> │ <span style=\"color: #008080; text-decoration-color: #008080\">     10</span> │ <span style=\"color: #008080; text-decoration-color: #008080\">    130</span> │ <span style=\"color: #008080; text-decoration-color: #008080\">    160</span> │ <span style=\"color: #008080; text-decoration-color: #008080\">    170</span> │ <span style=\"color: #008080; text-decoration-color: #008080\">     200</span> │ <span style=\"color: #008000; text-decoration-color: #008000\">  ▂██▂  </span> │  │\n",
       "│ │ <span style=\"color: #af87ff; text-decoration-color: #af87ff\">BMXBMI         </span> │ <span style=\"color: #008080; text-decoration-color: #008080\">    73</span> │ <span style=\"color: #008080; text-decoration-color: #008080\">    1.3</span> │ <span style=\"color: #008080; text-decoration-color: #008080\">     29</span> │ <span style=\"color: #008080; text-decoration-color: #008080\">    7.1</span> │ <span style=\"color: #008080; text-decoration-color: #008080\">     14</span> │ <span style=\"color: #008080; text-decoration-color: #008080\">     24</span> │ <span style=\"color: #008080; text-decoration-color: #008080\">     33</span> │ <span style=\"color: #008080; text-decoration-color: #008080\">      67</span> │ <span style=\"color: #008000; text-decoration-color: #008000\">  ▃█▃▁  </span> │  │\n",
       "│ │ <span style=\"color: #af87ff; text-decoration-color: #af87ff\">BMXLEG         </span> │ <span style=\"color: #008080; text-decoration-color: #008080\">   390</span> │ <span style=\"color: #008080; text-decoration-color: #008080\">    6.8</span> │ <span style=\"color: #008080; text-decoration-color: #008080\">     39</span> │ <span style=\"color: #008080; text-decoration-color: #008080\">    3.9</span> │ <span style=\"color: #008080; text-decoration-color: #008080\">     26</span> │ <span style=\"color: #008080; text-decoration-color: #008080\">     36</span> │ <span style=\"color: #008080; text-decoration-color: #008080\">     41</span> │ <span style=\"color: #008080; text-decoration-color: #008080\">      52</span> │ <span style=\"color: #008000; text-decoration-color: #008000\">  ▃██▃  </span> │  │\n",
       "│ │ <span style=\"color: #af87ff; text-decoration-color: #af87ff\">BMXARML        </span> │ <span style=\"color: #008080; text-decoration-color: #008080\">   310</span> │ <span style=\"color: #008080; text-decoration-color: #008080\">    5.4</span> │ <span style=\"color: #008080; text-decoration-color: #008080\">     37</span> │ <span style=\"color: #008080; text-decoration-color: #008080\">    2.8</span> │ <span style=\"color: #008080; text-decoration-color: #008080\">     28</span> │ <span style=\"color: #008080; text-decoration-color: #008080\">     35</span> │ <span style=\"color: #008080; text-decoration-color: #008080\">     39</span> │ <span style=\"color: #008080; text-decoration-color: #008080\">      47</span> │ <span style=\"color: #008000; text-decoration-color: #008000\">  ▄█▇▂  </span> │  │\n",
       "│ │ <span style=\"color: #af87ff; text-decoration-color: #af87ff\">BMXARMC        </span> │ <span style=\"color: #008080; text-decoration-color: #008080\">   310</span> │ <span style=\"color: #008080; text-decoration-color: #008080\">    5.4</span> │ <span style=\"color: #008080; text-decoration-color: #008080\">     33</span> │ <span style=\"color: #008080; text-decoration-color: #008080\">    5.3</span> │ <span style=\"color: #008080; text-decoration-color: #008080\">     17</span> │ <span style=\"color: #008080; text-decoration-color: #008080\">     30</span> │ <span style=\"color: #008080; text-decoration-color: #008080\">     36</span> │ <span style=\"color: #008080; text-decoration-color: #008080\">      58</span> │ <span style=\"color: #008000; text-decoration-color: #008000\">   ▆█▂  </span> │  │\n",
       "│ │ <span style=\"color: #af87ff; text-decoration-color: #af87ff\">BMXWAIST       </span> │ <span style=\"color: #008080; text-decoration-color: #008080\">   370</span> │ <span style=\"color: #008080; text-decoration-color: #008080\">    6.4</span> │ <span style=\"color: #008080; text-decoration-color: #008080\">    100</span> │ <span style=\"color: #008080; text-decoration-color: #008080\">     17</span> │ <span style=\"color: #008080; text-decoration-color: #008080\">     59</span> │ <span style=\"color: #008080; text-decoration-color: #008080\">     88</span> │ <span style=\"color: #008080; text-decoration-color: #008080\">    110</span> │ <span style=\"color: #008080; text-decoration-color: #008080\">     170</span> │ <span style=\"color: #008000; text-decoration-color: #008000\"> ▂▇█▃▁  </span> │  │\n",
       "│ │ <span style=\"color: #af87ff; text-decoration-color: #af87ff\">HIQ210         </span> │ <span style=\"color: #008080; text-decoration-color: #008080\">  1000</span> │ <span style=\"color: #008080; text-decoration-color: #008080\">     17</span> │ <span style=\"color: #008080; text-decoration-color: #008080\">    1.9</span> │ <span style=\"color: #008080; text-decoration-color: #008080\">   0.41</span> │ <span style=\"color: #008080; text-decoration-color: #008080\">      1</span> │ <span style=\"color: #008080; text-decoration-color: #008080\">      2</span> │ <span style=\"color: #008080; text-decoration-color: #008080\">      2</span> │ <span style=\"color: #008080; text-decoration-color: #008080\">       9</span> │ <span style=\"color: #008000; text-decoration-color: #008000\">   █    </span> │  │\n",
       "│ └─────────────────┴────────┴─────────┴─────────┴─────────┴─────────┴─────────┴─────────┴──────────┴──────────┘  │\n",
       "╰────────────────────────────────────────────────────── End ──────────────────────────────────────────────────────╯\n",
       "</pre>\n"
      ],
      "text/plain": [
       "╭──────────────────────────────────────────────── skimpy summary ─────────────────────────────────────────────────╮\n",
       "│ \u001b[3m         Data Summary         \u001b[0m \u001b[3m      Data Types       \u001b[0m                                                          │\n",
       "│ ┏━━━━━━━━━━━━━━━━━━━┳━━━━━━━━┓ ┏━━━━━━━━━━━━━┳━━━━━━━┓                                                          │\n",
       "│ ┃\u001b[1;36m \u001b[0m\u001b[1;36mdataframe        \u001b[0m\u001b[1;36m \u001b[0m┃\u001b[1;36m \u001b[0m\u001b[1;36mValues\u001b[0m\u001b[1;36m \u001b[0m┃ ┃\u001b[1;36m \u001b[0m\u001b[1;36mColumn Type\u001b[0m\u001b[1;36m \u001b[0m┃\u001b[1;36m \u001b[0m\u001b[1;36mCount\u001b[0m\u001b[1;36m \u001b[0m┃                                                          │\n",
       "│ ┡━━━━━━━━━━━━━━━━━━━╇━━━━━━━━┩ ┡━━━━━━━━━━━━━╇━━━━━━━┩                                                          │\n",
       "│ │ Number of rows    │ 5735   │ │ float64     │ 20    │                                                          │\n",
       "│ │ Number of columns │ 28     │ │ int64       │ 8     │                                                          │\n",
       "│ └───────────────────┴────────┘ └─────────────┴───────┘                                                          │\n",
       "│ \u001b[3m                                                    number                                                    \u001b[0m  │\n",
       "│ ┏━━━━━━━━━━━━━━━━━┳━━━━━━━━┳━━━━━━━━━┳━━━━━━━━━┳━━━━━━━━━┳━━━━━━━━━┳━━━━━━━━━┳━━━━━━━━━┳━━━━━━━━━━┳━━━━━━━━━━┓  │\n",
       "│ ┃\u001b[1m \u001b[0m\u001b[1mcolumn_name    \u001b[0m\u001b[1m \u001b[0m┃\u001b[1m \u001b[0m\u001b[1mNA    \u001b[0m\u001b[1m \u001b[0m┃\u001b[1m \u001b[0m\u001b[1mNA %   \u001b[0m\u001b[1m \u001b[0m┃\u001b[1m \u001b[0m\u001b[1mmean   \u001b[0m\u001b[1m \u001b[0m┃\u001b[1m \u001b[0m\u001b[1msd     \u001b[0m\u001b[1m \u001b[0m┃\u001b[1m \u001b[0m\u001b[1mp0     \u001b[0m\u001b[1m \u001b[0m┃\u001b[1m \u001b[0m\u001b[1mp25    \u001b[0m\u001b[1m \u001b[0m┃\u001b[1m \u001b[0m\u001b[1mp75    \u001b[0m\u001b[1m \u001b[0m┃\u001b[1m \u001b[0m\u001b[1mp100    \u001b[0m\u001b[1m \u001b[0m┃\u001b[1m \u001b[0m\u001b[1mhist    \u001b[0m\u001b[1m \u001b[0m┃  │\n",
       "│ ┡━━━━━━━━━━━━━━━━━╇━━━━━━━━╇━━━━━━━━━╇━━━━━━━━━╇━━━━━━━━━╇━━━━━━━━━╇━━━━━━━━━╇━━━━━━━━━╇━━━━━━━━━━╇━━━━━━━━━━┩  │\n",
       "│ │ \u001b[38;5;141mSEQN           \u001b[0m │ \u001b[36m     0\u001b[0m │ \u001b[36m      0\u001b[0m │ \u001b[36m  89000\u001b[0m │ \u001b[36m   2900\u001b[0m │ \u001b[36m  84000\u001b[0m │ \u001b[36m  86000\u001b[0m │ \u001b[36m  91000\u001b[0m │ \u001b[36m   94000\u001b[0m │ \u001b[32m ██████ \u001b[0m │  │\n",
       "│ │ \u001b[38;5;141mALQ101         \u001b[0m │ \u001b[36m   530\u001b[0m │ \u001b[36m    9.2\u001b[0m │ \u001b[36m    1.3\u001b[0m │ \u001b[36m   0.51\u001b[0m │ \u001b[36m      1\u001b[0m │ \u001b[36m      1\u001b[0m │ \u001b[36m      2\u001b[0m │ \u001b[36m       9\u001b[0m │ \u001b[32m   █    \u001b[0m │  │\n",
       "│ │ \u001b[38;5;141mALQ110         \u001b[0m │ \u001b[36m  4000\u001b[0m │ \u001b[36m     70\u001b[0m │ \u001b[36m    1.6\u001b[0m │ \u001b[36m   0.62\u001b[0m │ \u001b[36m      1\u001b[0m │ \u001b[36m      1\u001b[0m │ \u001b[36m      2\u001b[0m │ \u001b[36m       9\u001b[0m │ \u001b[32m   █    \u001b[0m │  │\n",
       "│ │ \u001b[38;5;141mALQ130         \u001b[0m │ \u001b[36m  2400\u001b[0m │ \u001b[36m     41\u001b[0m │ \u001b[36m    3.9\u001b[0m │ \u001b[36m     34\u001b[0m │ \u001b[36m      1\u001b[0m │ \u001b[36m      1\u001b[0m │ \u001b[36m      3\u001b[0m │ \u001b[36m    1000\u001b[0m │ \u001b[32m   █    \u001b[0m │  │\n",
       "│ │ \u001b[38;5;141mSMQ020         \u001b[0m │ \u001b[36m     0\u001b[0m │ \u001b[36m      0\u001b[0m │ \u001b[36m    1.6\u001b[0m │ \u001b[36m   0.57\u001b[0m │ \u001b[36m      1\u001b[0m │ \u001b[36m      1\u001b[0m │ \u001b[36m      2\u001b[0m │ \u001b[36m       9\u001b[0m │ \u001b[32m   █    \u001b[0m │  │\n",
       "│ │ \u001b[38;5;141mRIAGENDR       \u001b[0m │ \u001b[36m     0\u001b[0m │ \u001b[36m      0\u001b[0m │ \u001b[36m    1.5\u001b[0m │ \u001b[36m    0.5\u001b[0m │ \u001b[36m      1\u001b[0m │ \u001b[36m      1\u001b[0m │ \u001b[36m      2\u001b[0m │ \u001b[36m       2\u001b[0m │ \u001b[32m ▇    █ \u001b[0m │  │\n",
       "│ │ \u001b[38;5;141mRIDAGEYR       \u001b[0m │ \u001b[36m     0\u001b[0m │ \u001b[36m      0\u001b[0m │ \u001b[36m     48\u001b[0m │ \u001b[36m     18\u001b[0m │ \u001b[36m     18\u001b[0m │ \u001b[36m     32\u001b[0m │ \u001b[36m     63\u001b[0m │ \u001b[36m      80\u001b[0m │ \u001b[32m █▇▇▇▇▇ \u001b[0m │  │\n",
       "│ │ \u001b[38;5;141mRIDRETH1       \u001b[0m │ \u001b[36m     0\u001b[0m │ \u001b[36m      0\u001b[0m │ \u001b[36m      3\u001b[0m │ \u001b[36m    1.3\u001b[0m │ \u001b[36m      1\u001b[0m │ \u001b[36m      2\u001b[0m │ \u001b[36m      4\u001b[0m │ \u001b[36m       5\u001b[0m │ \u001b[32m ▄▃ █▅▄ \u001b[0m │  │\n",
       "│ │ \u001b[38;5;141mDMDCITZN       \u001b[0m │ \u001b[36m     1\u001b[0m │ \u001b[36m  0.017\u001b[0m │ \u001b[36m    1.2\u001b[0m │ \u001b[36m   0.49\u001b[0m │ \u001b[36m      1\u001b[0m │ \u001b[36m      1\u001b[0m │ \u001b[36m      1\u001b[0m │ \u001b[36m       9\u001b[0m │ \u001b[32m   █    \u001b[0m │  │\n",
       "│ │ \u001b[38;5;141mDMDEDUC2       \u001b[0m │ \u001b[36m   260\u001b[0m │ \u001b[36m    4.6\u001b[0m │ \u001b[36m    3.4\u001b[0m │ \u001b[36m    1.3\u001b[0m │ \u001b[36m      1\u001b[0m │ \u001b[36m      3\u001b[0m │ \u001b[36m    4.8\u001b[0m │ \u001b[36m       9\u001b[0m │ \u001b[32m  ▆▆█▇  \u001b[0m │  │\n",
       "│ │ \u001b[38;5;141mDMDMARTL       \u001b[0m │ \u001b[36m   260\u001b[0m │ \u001b[36m    4.6\u001b[0m │ \u001b[36m    2.6\u001b[0m │ \u001b[36m    2.4\u001b[0m │ \u001b[36m      1\u001b[0m │ \u001b[36m      1\u001b[0m │ \u001b[36m      5\u001b[0m │ \u001b[36m      77\u001b[0m │ \u001b[32m   █    \u001b[0m │  │\n",
       "│ │ \u001b[38;5;141mDMDHHSIZ       \u001b[0m │ \u001b[36m     0\u001b[0m │ \u001b[36m      0\u001b[0m │ \u001b[36m    3.3\u001b[0m │ \u001b[36m    1.7\u001b[0m │ \u001b[36m      1\u001b[0m │ \u001b[36m      2\u001b[0m │ \u001b[36m      5\u001b[0m │ \u001b[36m       7\u001b[0m │ \u001b[32m ▄█▅▅▄▄ \u001b[0m │  │\n",
       "│ │ \u001b[38;5;141mWTINT2YR       \u001b[0m │ \u001b[36m     0\u001b[0m │ \u001b[36m      0\u001b[0m │ \u001b[36m  40000\u001b[0m │ \u001b[36m  39000\u001b[0m │ \u001b[36m   5300\u001b[0m │ \u001b[36m  17000\u001b[0m │ \u001b[36m  43000\u001b[0m │ \u001b[36m  230000\u001b[0m │ \u001b[32m  █▁▁▁  \u001b[0m │  │\n",
       "│ │ \u001b[38;5;141mSDMVPSU        \u001b[0m │ \u001b[36m     0\u001b[0m │ \u001b[36m      0\u001b[0m │ \u001b[36m    1.5\u001b[0m │ \u001b[36m    0.5\u001b[0m │ \u001b[36m      1\u001b[0m │ \u001b[36m      1\u001b[0m │ \u001b[36m      2\u001b[0m │ \u001b[36m       2\u001b[0m │ \u001b[32m █    █ \u001b[0m │  │\n",
       "│ │ \u001b[38;5;141mSDMVSTRA       \u001b[0m │ \u001b[36m     0\u001b[0m │ \u001b[36m      0\u001b[0m │ \u001b[36m    130\u001b[0m │ \u001b[36m    4.2\u001b[0m │ \u001b[36m    120\u001b[0m │ \u001b[36m    120\u001b[0m │ \u001b[36m    130\u001b[0m │ \u001b[36m     130\u001b[0m │ \u001b[32m ▇▅▅▇▅█ \u001b[0m │  │\n",
       "│ │ \u001b[38;5;141mINDFMPIR       \u001b[0m │ \u001b[36m   600\u001b[0m │ \u001b[36m     10\u001b[0m │ \u001b[36m    2.4\u001b[0m │ \u001b[36m    1.6\u001b[0m │ \u001b[36m      0\u001b[0m │ \u001b[36m    1.1\u001b[0m │ \u001b[36m    3.7\u001b[0m │ \u001b[36m       5\u001b[0m │ \u001b[32m ▅█▅▄▂▇ \u001b[0m │  │\n",
       "│ │ \u001b[38;5;141mBPXSY1         \u001b[0m │ \u001b[36m   330\u001b[0m │ \u001b[36m    5.8\u001b[0m │ \u001b[36m    130\u001b[0m │ \u001b[36m     18\u001b[0m │ \u001b[36m     82\u001b[0m │ \u001b[36m    110\u001b[0m │ \u001b[36m    130\u001b[0m │ \u001b[36m     240\u001b[0m │ \u001b[32m  ▂█▃▁  \u001b[0m │  │\n",
       "│ │ \u001b[38;5;141mBPXDI1         \u001b[0m │ \u001b[36m   330\u001b[0m │ \u001b[36m    5.8\u001b[0m │ \u001b[36m     70\u001b[0m │ \u001b[36m     13\u001b[0m │ \u001b[36m      0\u001b[0m │ \u001b[36m     62\u001b[0m │ \u001b[36m     78\u001b[0m │ \u001b[36m     120\u001b[0m │ \u001b[32m   ▂█▃  \u001b[0m │  │\n",
       "│ │ \u001b[38;5;141mBPXSY2         \u001b[0m │ \u001b[36m   200\u001b[0m │ \u001b[36m    3.5\u001b[0m │ \u001b[36m    120\u001b[0m │ \u001b[36m     19\u001b[0m │ \u001b[36m     84\u001b[0m │ \u001b[36m    110\u001b[0m │ \u001b[36m    130\u001b[0m │ \u001b[36m     240\u001b[0m │ \u001b[32m  ▃█▃▁  \u001b[0m │  │\n",
       "│ │ \u001b[38;5;141mBPXDI2         \u001b[0m │ \u001b[36m   200\u001b[0m │ \u001b[36m    3.5\u001b[0m │ \u001b[36m     69\u001b[0m │ \u001b[36m     13\u001b[0m │ \u001b[36m      0\u001b[0m │ \u001b[36m     62\u001b[0m │ \u001b[36m     78\u001b[0m │ \u001b[36m     140\u001b[0m │ \u001b[32m    █▇  \u001b[0m │  │\n",
       "│ │ \u001b[38;5;141mBMXWT          \u001b[0m │ \u001b[36m    69\u001b[0m │ \u001b[36m    1.2\u001b[0m │ \u001b[36m     81\u001b[0m │ \u001b[36m     22\u001b[0m │ \u001b[36m     32\u001b[0m │ \u001b[36m     66\u001b[0m │ \u001b[36m     93\u001b[0m │ \u001b[36m     200\u001b[0m │ \u001b[32m  ▂█▄▁  \u001b[0m │  │\n",
       "│ │ \u001b[38;5;141mBMXHT          \u001b[0m │ \u001b[36m    62\u001b[0m │ \u001b[36m    1.1\u001b[0m │ \u001b[36m    170\u001b[0m │ \u001b[36m     10\u001b[0m │ \u001b[36m    130\u001b[0m │ \u001b[36m    160\u001b[0m │ \u001b[36m    170\u001b[0m │ \u001b[36m     200\u001b[0m │ \u001b[32m  ▂██▂  \u001b[0m │  │\n",
       "│ │ \u001b[38;5;141mBMXBMI         \u001b[0m │ \u001b[36m    73\u001b[0m │ \u001b[36m    1.3\u001b[0m │ \u001b[36m     29\u001b[0m │ \u001b[36m    7.1\u001b[0m │ \u001b[36m     14\u001b[0m │ \u001b[36m     24\u001b[0m │ \u001b[36m     33\u001b[0m │ \u001b[36m      67\u001b[0m │ \u001b[32m  ▃█▃▁  \u001b[0m │  │\n",
       "│ │ \u001b[38;5;141mBMXLEG         \u001b[0m │ \u001b[36m   390\u001b[0m │ \u001b[36m    6.8\u001b[0m │ \u001b[36m     39\u001b[0m │ \u001b[36m    3.9\u001b[0m │ \u001b[36m     26\u001b[0m │ \u001b[36m     36\u001b[0m │ \u001b[36m     41\u001b[0m │ \u001b[36m      52\u001b[0m │ \u001b[32m  ▃██▃  \u001b[0m │  │\n",
       "│ │ \u001b[38;5;141mBMXARML        \u001b[0m │ \u001b[36m   310\u001b[0m │ \u001b[36m    5.4\u001b[0m │ \u001b[36m     37\u001b[0m │ \u001b[36m    2.8\u001b[0m │ \u001b[36m     28\u001b[0m │ \u001b[36m     35\u001b[0m │ \u001b[36m     39\u001b[0m │ \u001b[36m      47\u001b[0m │ \u001b[32m  ▄█▇▂  \u001b[0m │  │\n",
       "│ │ \u001b[38;5;141mBMXARMC        \u001b[0m │ \u001b[36m   310\u001b[0m │ \u001b[36m    5.4\u001b[0m │ \u001b[36m     33\u001b[0m │ \u001b[36m    5.3\u001b[0m │ \u001b[36m     17\u001b[0m │ \u001b[36m     30\u001b[0m │ \u001b[36m     36\u001b[0m │ \u001b[36m      58\u001b[0m │ \u001b[32m   ▆█▂  \u001b[0m │  │\n",
       "│ │ \u001b[38;5;141mBMXWAIST       \u001b[0m │ \u001b[36m   370\u001b[0m │ \u001b[36m    6.4\u001b[0m │ \u001b[36m    100\u001b[0m │ \u001b[36m     17\u001b[0m │ \u001b[36m     59\u001b[0m │ \u001b[36m     88\u001b[0m │ \u001b[36m    110\u001b[0m │ \u001b[36m     170\u001b[0m │ \u001b[32m ▂▇█▃▁  \u001b[0m │  │\n",
       "│ │ \u001b[38;5;141mHIQ210         \u001b[0m │ \u001b[36m  1000\u001b[0m │ \u001b[36m     17\u001b[0m │ \u001b[36m    1.9\u001b[0m │ \u001b[36m   0.41\u001b[0m │ \u001b[36m      1\u001b[0m │ \u001b[36m      2\u001b[0m │ \u001b[36m      2\u001b[0m │ \u001b[36m       9\u001b[0m │ \u001b[32m   █    \u001b[0m │  │\n",
       "│ └─────────────────┴────────┴─────────┴─────────┴─────────┴─────────┴─────────┴─────────┴──────────┴──────────┘  │\n",
       "╰────────────────────────────────────────────────────── End ──────────────────────────────────────────────────────╯\n"
      ]
     },
     "metadata": {},
     "output_type": "display_data"
    }
   ],
   "source": [
    "from skimpy import skim\n",
    "skim(df)"
   ]
  },
  {
   "cell_type": "code",
   "execution_count": 10,
   "metadata": {},
   "outputs": [
    {
     "name": "stdout",
     "output_type": "stream",
     "text": [
      "Collecting dtale\n",
      "  Downloading dtale-2.16.0-py2.py3-none-any.whl (14.0 MB)\n",
      "\u001b[K     |████████████████████████████████| 14.0 MB 45 kB/s  eta 0:00:01\n",
      "\u001b[?25hRequirement already satisfied: numpy; python_version >= \"3.0\" in /home/solu/.local/lib/python3.8/site-packages (from dtale) (1.23.5)\n",
      "Collecting strsimpy\n",
      "  Downloading strsimpy-0.2.1-py3-none-any.whl (45 kB)\n",
      "\u001b[K     |████████████████████████████████| 45 kB 106 kB/s eta 0:00:01\n",
      "\u001b[?25hRequirement already satisfied: future>=0.14.0 in /usr/lib/python3/dist-packages (from dtale) (0.18.2)\n",
      "Requirement already satisfied: networkx; python_version > \"3.7\" in /home/solu/.local/lib/python3.8/site-packages (from dtale) (3.1)\n",
      "Collecting Flask; python_version >= \"3.8\"\n",
      "  Downloading Flask-2.3.2-py3-none-any.whl (96 kB)\n",
      "\u001b[K     |████████████████████████████████| 96 kB 322 kB/s eta 0:00:01\n",
      "\u001b[?25hCollecting dash-daq\n",
      "  Downloading dash_daq-0.5.0.tar.gz (642 kB)\n",
      "\u001b[K     |████████████████████████████████| 642 kB 919 kB/s eta 0:00:01\n",
      "\u001b[?25hCollecting beautifulsoup4; python_version > \"3.0\"\n",
      "  Downloading beautifulsoup4-4.12.2-py3-none-any.whl (142 kB)\n",
      "\u001b[K     |████████████████████████████████| 142 kB 392 kB/s eta 0:00:01\n",
      "\u001b[?25hCollecting lz4; python_version > \"3.6\"\n",
      "  Downloading lz4-4.3.2-cp38-cp38-manylinux_2_17_x86_64.manylinux2014_x86_64.whl (1.3 MB)\n",
      "\u001b[K     |████████████████████████████████| 1.3 MB 274 kB/s eta 0:00:01\n",
      "\u001b[?25hCollecting kaleido\n",
      "  Downloading kaleido-0.2.1-py2.py3-none-manylinux1_x86_64.whl (79.9 MB)\n",
      "\u001b[K     |████████████████████████████████| 79.9 MB 43 kB/s  eta 0:00:01��███████████████   | 72.3 MB 492 kB/s eta 0:00:16\n",
      "\u001b[?25hCollecting matplotlib<=3.6.0; python_version == \"3.8\"\n",
      "  Downloading matplotlib-3.6.0-cp38-cp38-manylinux_2_12_x86_64.manylinux2010_x86_64.whl (9.4 MB)\n",
      "\u001b[K     |████████████████████████████████| 9.4 MB 555 kB/s eta 0:00:01\n",
      "\u001b[?25hRequirement already satisfied: six in /usr/lib/python3/dist-packages (from dtale) (1.14.0)\n",
      "Requirement already satisfied: certifi; python_version > \"3.0\" in /usr/lib/python3/dist-packages (from dtale) (2019.11.28)\n",
      "Collecting dash-colorscales\n",
      "  Downloading dash_colorscales-0.0.4.tar.gz (62 kB)\n",
      "\u001b[K     |████████████████████████████████| 62 kB 118 kB/s eta 0:00:01\n",
      "\u001b[?25hRequirement already satisfied: scikit-learn; python_version > \"3.7\" in /home/solu/.local/lib/python3.8/site-packages (from dtale) (1.2.2)\n",
      "Collecting Flask-Compress\n",
      "  Downloading Flask_Compress-1.13-py3-none-any.whl (7.9 kB)\n",
      "Requirement already satisfied: requests; python_version >= \"3.7\" in /home/solu/.local/lib/python3.8/site-packages (from dtale) (2.31.0)\n",
      "Collecting openpyxl!=3.2.0b1; python_version >= \"3.0\"\n",
      "  Downloading openpyxl-3.1.2-py2.py3-none-any.whl (249 kB)\n",
      "\u001b[K     |████████████████████████████████| 249 kB 813 kB/s eta 0:00:01\n",
      "\u001b[?25hCollecting flask-ngrok; python_version > \"3.0\"\n",
      "  Downloading flask_ngrok-0.0.25-py3-none-any.whl (3.1 kB)\n",
      "Requirement already satisfied: pandas in /home/solu/.local/lib/python3.8/site-packages (from dtale) (1.5.3)\n",
      "Requirement already satisfied: cycler; python_version > \"3.0\" in /home/solu/.local/lib/python3.8/site-packages (from dtale) (0.11.0)\n",
      "Collecting xlrd\n",
      "  Downloading xlrd-2.0.1-py2.py3-none-any.whl (96 kB)\n",
      "\u001b[K     |████████████████████████████████| 96 kB 352 kB/s eta 0:00:01\n",
      "\u001b[?25hCollecting itsdangerous; python_version >= \"3.7\"\n",
      "  Downloading itsdangerous-2.1.2-py3-none-any.whl (15 kB)\n",
      "Requirement already satisfied: statsmodels; python_version > \"3.7\" in /home/solu/.local/lib/python3.8/site-packages (from dtale) (0.14.0)\n",
      "Collecting missingno<=0.4.2\n",
      "  Downloading missingno-0.4.2-py3-none-any.whl (9.7 kB)\n",
      "Collecting et-xmlfile; python_version >= \"3.6\"\n",
      "  Downloading et_xmlfile-1.1.0-py3-none-any.whl (4.7 kB)\n",
      "Collecting scipy<=1.9.3; python_version >= \"3.8\"\n",
      "  Downloading scipy-1.9.3-cp38-cp38-manylinux_2_17_x86_64.manylinux2014_x86_64.whl (33.8 MB)\n",
      "\u001b[K     |████████████████████████████████| 33.8 MB 74 kB/s  eta 0:00:01\n",
      "\u001b[?25hCollecting dash; python_version >= \"3.6\"\n",
      "  Downloading dash-2.10.2-py3-none-any.whl (10.3 MB)\n",
      "\u001b[K     |████████████████████████████████| 10.3 MB 47 kB/s  eta 0:00:01\n",
      "\u001b[?25hRequirement already satisfied: seaborn; python_version > \"3.6\" in /home/solu/.local/lib/python3.8/site-packages (from dtale) (0.12.2)\n",
      "Collecting dash-bootstrap-components<=1.3.1; python_version > \"3.6\"\n",
      "  Downloading dash_bootstrap_components-1.3.1-py3-none-any.whl (219 kB)\n",
      "\u001b[K     |████████████████████████████████| 219 kB 932 kB/s eta 0:00:01\n",
      "\u001b[?25hCollecting plotly; python_version >= \"3.6\"\n",
      "  Downloading plotly-5.14.1-py2.py3-none-any.whl (15.3 MB)\n",
      "\u001b[K     |████████████████████████████████| 15.3 MB 89 kB/s  eta 0:00:01                 | 4.1 MB 610 kB/s eta 0:00:1916               | 5.1 MB 692 kB/s eta 0:00:15��█████████▋                  | 6.5 MB 453 kB/s eta 0:00:20 eta 0:00:15�█████████████████           | 10.1 MB 393 kB/s eta 0:00:14\n",
      "\u001b[?25hCollecting xarray; python_version >= \"3.0\"\n",
      "  Downloading xarray-2023.1.0-py3-none-any.whl (973 kB)\n",
      "\u001b[K     |████████████████████████████████| 973 kB 780 kB/s eta 0:00:01\n",
      "\u001b[?25hCollecting squarify\n",
      "  Downloading squarify-0.4.3-py3-none-any.whl (4.3 kB)\n",
      "Collecting blinker>=1.6.2\n",
      "  Downloading blinker-1.6.2-py3-none-any.whl (13 kB)\n",
      "Collecting Werkzeug>=2.3.3\n",
      "  Downloading Werkzeug-2.3.4-py3-none-any.whl (242 kB)\n",
      "\u001b[K     |████████████████████████████████| 242 kB 527 kB/s eta 0:00:01\n",
      "\u001b[?25hRequirement already satisfied: Jinja2>=3.1.2 in /home/solu/.local/lib/python3.8/site-packages (from Flask; python_version >= \"3.8\"->dtale) (3.1.2)\n",
      "Requirement already satisfied: click>=8.1.3 in /home/solu/.local/lib/python3.8/site-packages (from Flask; python_version >= \"3.8\"->dtale) (8.1.3)\n",
      "Requirement already satisfied: importlib-metadata>=3.6.0; python_version < \"3.10\" in /home/solu/.local/lib/python3.8/site-packages (from Flask; python_version >= \"3.8\"->dtale) (6.6.0)\n",
      "Collecting soupsieve>1.2\n",
      "  Downloading soupsieve-2.4.1-py3-none-any.whl (36 kB)\n",
      "Requirement already satisfied: contourpy>=1.0.1 in /home/solu/.local/lib/python3.8/site-packages (from matplotlib<=3.6.0; python_version == \"3.8\"->dtale) (1.0.7)\n",
      "Requirement already satisfied: pyparsing>=2.2.1 in /home/solu/.local/lib/python3.8/site-packages (from matplotlib<=3.6.0; python_version == \"3.8\"->dtale) (3.0.9)\n",
      "Requirement already satisfied: fonttools>=4.22.0 in /home/solu/.local/lib/python3.8/site-packages (from matplotlib<=3.6.0; python_version == \"3.8\"->dtale) (4.39.4)\n",
      "Requirement already satisfied: python-dateutil>=2.7 in /home/solu/.local/lib/python3.8/site-packages (from matplotlib<=3.6.0; python_version == \"3.8\"->dtale) (2.8.2)\n",
      "Requirement already satisfied: packaging>=20.0 in /home/solu/.local/lib/python3.8/site-packages (from matplotlib<=3.6.0; python_version == \"3.8\"->dtale) (23.1)\n",
      "Requirement already satisfied: pillow>=6.2.0 in /usr/lib/python3/dist-packages (from matplotlib<=3.6.0; python_version == \"3.8\"->dtale) (7.0.0)\n",
      "Requirement already satisfied: kiwisolver>=1.0.1 in /home/solu/.local/lib/python3.8/site-packages (from matplotlib<=3.6.0; python_version == \"3.8\"->dtale) (1.4.4)\n",
      "Requirement already satisfied: joblib>=1.1.1 in /home/solu/.local/lib/python3.8/site-packages (from scikit-learn; python_version > \"3.7\"->dtale) (1.2.0)\n",
      "Requirement already satisfied: threadpoolctl>=2.0.0 in /home/solu/.local/lib/python3.8/site-packages (from scikit-learn; python_version > \"3.7\"->dtale) (3.1.0)\n",
      "Collecting brotli\n",
      "  Downloading Brotli-1.0.9-cp38-cp38-manylinux1_x86_64.whl (357 kB)\n",
      "\u001b[K     |████████████████████████████████| 357 kB 673 kB/s eta 0:00:01\n",
      "\u001b[?25hRequirement already satisfied: urllib3<3,>=1.21.1 in /usr/lib/python3/dist-packages (from requests; python_version >= \"3.7\"->dtale) (1.25.8)\n",
      "Requirement already satisfied: idna<4,>=2.5 in /usr/lib/python3/dist-packages (from requests; python_version >= \"3.7\"->dtale) (2.8)\n",
      "Requirement already satisfied: charset-normalizer<4,>=2 in /home/solu/.local/lib/python3.8/site-packages (from requests; python_version >= \"3.7\"->dtale) (3.1.0)\n",
      "Requirement already satisfied: pytz>=2020.1 in /home/solu/.local/lib/python3.8/site-packages (from pandas->dtale) (2023.3)\n",
      "Requirement already satisfied: patsy>=0.5.2 in /home/solu/.local/lib/python3.8/site-packages (from statsmodels; python_version > \"3.7\"->dtale) (0.5.3)\n",
      "Collecting dash-html-components==2.0.0\n",
      "  Downloading dash_html_components-2.0.0-py3-none-any.whl (4.1 kB)\n",
      "Collecting dash-core-components==2.0.0\n",
      "  Downloading dash_core_components-2.0.0-py3-none-any.whl (3.8 kB)\n",
      "Collecting dash-table==5.0.0\n",
      "  Downloading dash_table-5.0.0-py3-none-any.whl (3.9 kB)\n",
      "Collecting tenacity>=6.2.0\n",
      "  Downloading tenacity-8.2.2-py3-none-any.whl (24 kB)\n",
      "Requirement already satisfied: MarkupSafe>=2.1.1 in /home/solu/.local/lib/python3.8/site-packages (from Werkzeug>=2.3.3->Flask; python_version >= \"3.8\"->dtale) (2.1.3)\n",
      "Requirement already satisfied: zipp>=0.5 in /home/solu/.local/lib/python3.8/site-packages (from importlib-metadata>=3.6.0; python_version < \"3.10\"->Flask; python_version >= \"3.8\"->dtale) (3.15.0)\n",
      "Building wheels for collected packages: dash-daq, dash-colorscales\n",
      "  Building wheel for dash-daq (setup.py) ... \u001b[?25ldone\n",
      "\u001b[?25h  Created wheel for dash-daq: filename=dash_daq-0.5.0-py3-none-any.whl size=669702 sha256=d15fd7de31cac6e07a0ce287e6f890508b7cb83b400674bd02622c97bac86f4c\n",
      "  Stored in directory: /home/solu/.cache/pip/wheels/00/35/e5/57e90f10c529601c6627400513cb65dd5adb09752411f5a050\n",
      "  Building wheel for dash-colorscales (setup.py) ... \u001b[?25ldone\n",
      "\u001b[?25h  Created wheel for dash-colorscales: filename=dash_colorscales-0.0.4-py3-none-any.whl size=62597 sha256=dc8de1d226fb0a87c308cacbdbb2d4aaa1f686a691dc607125ec4ef12f696da9\n",
      "  Stored in directory: /home/solu/.cache/pip/wheels/fe/33/33/172dbfe1efc739352828854a113df599a428b58f68ed0c4f75\n",
      "Successfully built dash-daq dash-colorscales\n",
      "\u001b[31mERROR: dash 2.10.2 has requirement Flask<2.3.0,>=1.0.4, but you'll have flask 2.3.2 which is incompatible.\u001b[0m\n",
      "\u001b[31mERROR: dash 2.10.2 has requirement Werkzeug<2.3.0, but you'll have werkzeug 2.3.4 which is incompatible.\u001b[0m\n",
      "Installing collected packages: strsimpy, blinker, Werkzeug, itsdangerous, Flask, dash-html-components, dash-core-components, tenacity, plotly, dash-table, dash, dash-daq, soupsieve, beautifulsoup4, lz4, kaleido, matplotlib, dash-colorscales, brotli, Flask-Compress, et-xmlfile, openpyxl, flask-ngrok, xlrd, scipy, missingno, dash-bootstrap-components, xarray, squarify, dtale\n",
      "  Attempting uninstall: matplotlib\n",
      "    Found existing installation: matplotlib 3.7.1\n",
      "    Uninstalling matplotlib-3.7.1:\n",
      "      Successfully uninstalled matplotlib-3.7.1\n",
      "  Attempting uninstall: scipy\n",
      "    Found existing installation: scipy 1.10.1\n",
      "    Uninstalling scipy-1.10.1:\n",
      "      Successfully uninstalled scipy-1.10.1\n",
      "Successfully installed Flask-2.3.2 Flask-Compress-1.13 Werkzeug-2.3.4 beautifulsoup4-4.12.2 blinker-1.6.2 brotli-1.0.9 dash-2.10.2 dash-bootstrap-components-1.3.1 dash-colorscales-0.0.4 dash-core-components-2.0.0 dash-daq-0.5.0 dash-html-components-2.0.0 dash-table-5.0.0 dtale-2.16.0 et-xmlfile-1.1.0 flask-ngrok-0.0.25 itsdangerous-2.1.2 kaleido-0.2.1 lz4-4.3.2 matplotlib-3.6.0 missingno-0.4.2 openpyxl-3.1.2 plotly-5.14.1 scipy-1.9.3 soupsieve-2.4.1 squarify-0.4.3 strsimpy-0.2.1 tenacity-8.2.2 xarray-2023.1.0 xlrd-2.0.1\n",
      "Note: you may need to restart the kernel to use updated packages.\n"
     ]
    }
   ],
   "source": [
    "pip install dtale"
   ]
  },
  {
   "cell_type": "code",
   "execution_count": null,
   "metadata": {},
   "outputs": [],
   "source": [
    "import dtale as dt\n",
    "diamonds = sns.load_dataset('diamonds')\n",
    "dt.show(diamonds)\n",
    "# dt.show(df)"
   ]
  }
 ],
 "metadata": {
  "kernelspec": {
   "display_name": "Python 3",
   "language": "python",
   "name": "python3"
  },
  "language_info": {
   "codemirror_mode": {
    "name": "ipython",
    "version": 3
   },
   "file_extension": ".py",
   "mimetype": "text/x-python",
   "name": "python",
   "nbconvert_exporter": "python",
   "pygments_lexer": "ipython3",
   "version": "3.8.10"
  },
  "orig_nbformat": 4
 },
 "nbformat": 4,
 "nbformat_minor": 2
}
